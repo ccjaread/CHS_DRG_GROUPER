{
 "cells": [
  {
   "cell_type": "markdown",
   "metadata": {},
   "source": [
    "## A Wild Demo Grouper\n",
    "```\n",
    "为明确步骤，以下方法逻辑有冗余（包括代码先后顺序是不合理的），实际运行推荐使用C或Spark\n",
    "```"
   ]
  },
  {
   "cell_type": "markdown",
   "metadata": {},
   "source": [
    "### 0. Review"
   ]
  },
  {
   "cell_type": "markdown",
   "metadata": {},
   "source": [
    "#### 0.0. DRG 基本概念\n",
    "> **疾病诊断相关组(Diagnosis Related Groups，DRG)**是用于衡量 医疗服务质量效率以及进行医保支付的一个重要工具。DRG 实质上 是一种病例组合分类方案，即根据年龄、疾病诊断、合并症、并发症、 治疗方式、病症严重程度及转归和资源消耗等因素，将患者分入若干 诊断组进行管理的体系。"
   ]
  },
  {
   "cell_type": "markdown",
   "metadata": {},
   "source": [
    "#### 0.1. DRG 付费适用范围\n",
    "##### 适用范围\n",
    "\n",
    ">DRG 是以划分医疗服务产出为目标(同组病例医疗服务产出的\n",
    "期望相同)，其本质上是一套“管理工具”，只有那些诊断和治疗方式 对病例的资源消耗和治疗结果影响显著的病例，才适合使用 DRG 作为风险调整工具，较适用于急性住院病例(Acute inpatients)。\n",
    "\n",
    "##### 不适用范围\n",
    "\n",
    ">不适用于以下情况，应作“除外”处理:1门诊病例;2康复病例; 3需要长期住院的病例;4某些诊断相同，治疗方式相同，但资源消耗和治疗结果变异巨大病例(如精神类疾病)。\n",
    "\n"
   ]
  },
  {
   "cell_type": "markdown",
   "metadata": {},
   "source": [
    "#### 0.2. 分组原则\n",
    "> (1)逐层细化、大类概括; <br>\n",
    "> (2)疾病诊断、手术或操作临床过程相似，资源消耗相近; <br>\n",
    "> (3)临床经验与数据验证相结合; <br>\n",
    "> (4)兼顾医保支付的管理要求和医疗服务的实际需要。<br>"
   ]
  },
  {
   "cell_type": "markdown",
   "metadata": {},
   "source": [
    "#### 0.3. 分组理念\n",
    "> DRG 分组采用病例组合(Case-mix)思想，疾病类型不同，应该通过诊断区分开;同类病例但治疗方式不同，亦应通过操作区分开; 同类病例同类治疗方式，但病例个体特征不同，还应该通过年龄、并发症与合并症、出生体重等因素区分开，最终形成 DRG 组。"
   ]
  },
  {
   "cell_type": "markdown",
   "metadata": {},
   "source": [
    "#### 0.4. Pre-MDC 目录\n",
    "\n",
    "|DRG 编码|DRG 名称|\n",
    "|-|-|\n",
    "|MDCA|器官、骨髓或造血干细胞移植|\n",
    "|MDCA|气管切开伴呼吸机支持|\n",
    "|MDCP|出生<29 天内的新生儿|\n",
    "|MDCY|HIV 感染疾病及相关操作|\n",
    "|MDCZ|多发严重创伤|"
   ]
  },
  {
   "cell_type": "code",
   "execution_count": 9,
   "metadata": {},
   "outputs": [],
   "source": [
    "pre_mdc=['MDCA','MDCP','MDCY','MDCZ']"
   ]
  },
  {
   "cell_type": "markdown",
   "metadata": {},
   "source": [
    "#### 0.5. MCC/CC 处理\n",
    "> 直接以次要诊断是否在列表中确定 MCC/CC 的列表模式(美国模式)<br>\n",
    "> 以病人临床复杂水平(PCCLs)确定 MCC/CC 的权重模式 (澳大利亚模式)"
   ]
  },
  {
   "cell_type": "markdown",
   "metadata": {},
   "source": [
    "#### 0.6. 判断细分 DRG 组，需同时满足以下条件: \n",
    "> (1)组内病例数不少于 100 例;<br>\n",
    "> (2)组内变异系数 CV<1(临床专家判断成组除外);<br> \n",
    "> (3)同一 ADRG 内细分的 DRG 组间平均费用的相对差异不低于 20%<br>"
   ]
  },
  {
   "cell_type": "markdown",
   "metadata": {},
   "source": [
    "### 1. Start Grouping"
   ]
  },
  {
   "cell_type": "code",
   "execution_count": 10,
   "metadata": {},
   "outputs": [],
   "source": [
    "import pandas as pd\n",
    "import numpy as np"
   ]
  },
  {
   "cell_type": "markdown",
   "metadata": {},
   "source": [
    "#### 1.1. Load Data & Clean"
   ]
  },
  {
   "cell_type": "code",
   "execution_count": 38,
   "metadata": {},
   "outputs": [],
   "source": [
    "case_data=pd.read_csv('./dummy_data/dummy_cases.csv')"
   ]
  },
  {
   "cell_type": "code",
   "execution_count": 39,
   "metadata": {},
   "outputs": [],
   "source": [
    "# drop cases without diag_p\n",
    "case_data=case_data.loc[case_data.diag_p.notna()]"
   ]
  },
  {
   "cell_type": "code",
   "execution_count": 40,
   "metadata": {},
   "outputs": [
    {
     "data": {
      "text/html": [
       "<div>\n",
       "<style scoped>\n",
       "    .dataframe tbody tr th:only-of-type {\n",
       "        vertical-align: middle;\n",
       "    }\n",
       "\n",
       "    .dataframe tbody tr th {\n",
       "        vertical-align: top;\n",
       "    }\n",
       "\n",
       "    .dataframe thead th {\n",
       "        text-align: right;\n",
       "    }\n",
       "</style>\n",
       "<table border=\"1\" class=\"dataframe\">\n",
       "  <thead>\n",
       "    <tr style=\"text-align: right;\">\n",
       "      <th></th>\n",
       "      <th>case_id</th>\n",
       "      <th>gender</th>\n",
       "      <th>age</th>\n",
       "      <th>diag_p</th>\n",
       "      <th>diag_oth</th>\n",
       "      <th>oper_p</th>\n",
       "      <th>fee</th>\n",
       "      <th>mdci</th>\n",
       "      <th>adrgi</th>\n",
       "      <th>drgii</th>\n",
       "    </tr>\n",
       "  </thead>\n",
       "  <tbody>\n",
       "    <tr>\n",
       "      <th>4</th>\n",
       "      <td>ectQx</td>\n",
       "      <td>0</td>\n",
       "      <td>78</td>\n",
       "      <td>D37.019</td>\n",
       "      <td>T82.501</td>\n",
       "      <td>NaN</td>\n",
       "      <td>389.045262</td>\n",
       "      <td>MDCD</td>\n",
       "      <td>DR1</td>\n",
       "      <td>DR13</td>\n",
       "    </tr>\n",
       "    <tr>\n",
       "      <th>5</th>\n",
       "      <td>URvIm</td>\n",
       "      <td>0</td>\n",
       "      <td>39</td>\n",
       "      <td>R82.500x004</td>\n",
       "      <td>T91.205</td>\n",
       "      <td>NaN</td>\n",
       "      <td>621.433309</td>\n",
       "      <td>MDCL</td>\n",
       "      <td>LW1</td>\n",
       "      <td>LW15</td>\n",
       "    </tr>\n",
       "    <tr>\n",
       "      <th>7</th>\n",
       "      <td>KbqpW</td>\n",
       "      <td>0</td>\n",
       "      <td>73</td>\n",
       "      <td>N71.001</td>\n",
       "      <td>I72.400x310</td>\n",
       "      <td>NaN</td>\n",
       "      <td>822.699113</td>\n",
       "      <td>MDCN</td>\n",
       "      <td>NS1</td>\n",
       "      <td>NS19</td>\n",
       "    </tr>\n",
       "    <tr>\n",
       "      <th>9</th>\n",
       "      <td>ZSFiM</td>\n",
       "      <td>0</td>\n",
       "      <td>75</td>\n",
       "      <td>O00.804</td>\n",
       "      <td>D69.500</td>\n",
       "      <td>65.0102</td>\n",
       "      <td>630.643490</td>\n",
       "      <td>MDCO</td>\n",
       "      <td>OE1</td>\n",
       "      <td>OE19</td>\n",
       "    </tr>\n",
       "    <tr>\n",
       "      <th>11</th>\n",
       "      <td>LkpPL</td>\n",
       "      <td>0</td>\n",
       "      <td>40</td>\n",
       "      <td>R04.800x002</td>\n",
       "      <td>I80.804</td>\n",
       "      <td>NaN</td>\n",
       "      <td>363.638841</td>\n",
       "      <td>MDCE</td>\n",
       "      <td>EV1</td>\n",
       "      <td>EV19</td>\n",
       "    </tr>\n",
       "  </tbody>\n",
       "</table>\n",
       "</div>"
      ],
      "text/plain": [
       "   case_id  gender  age       diag_p     diag_oth   oper_p         fee  mdci  \\\n",
       "4    ectQx       0   78      D37.019      T82.501      NaN  389.045262  MDCD   \n",
       "5    URvIm       0   39  R82.500x004      T91.205      NaN  621.433309  MDCL   \n",
       "7    KbqpW       0   73      N71.001  I72.400x310      NaN  822.699113  MDCN   \n",
       "9    ZSFiM       0   75      O00.804      D69.500  65.0102  630.643490  MDCO   \n",
       "11   LkpPL       0   40  R04.800x002      I80.804      NaN  363.638841  MDCE   \n",
       "\n",
       "   adrgi drgii  \n",
       "4    DR1  DR13  \n",
       "5    LW1  LW15  \n",
       "7    NS1  NS19  \n",
       "9    OE1  OE19  \n",
       "11   EV1  EV19  "
      ]
     },
     "execution_count": 40,
     "metadata": {},
     "output_type": "execute_result"
    }
   ],
   "source": [
    "# 字段名称含义参见01_Gen_Dummy_Case.ipynb\n",
    "case_data.head()"
   ]
  },
  {
   "cell_type": "code",
   "execution_count": null,
   "metadata": {},
   "outputs": [],
   "source": [
    "# 实际还有一些病例按照住院天数和费用进行裁剪（outlier），在此本来就是造的数据，所有偷懒省略"
   ]
  },
  {
   "cell_type": "markdown",
   "metadata": {},
   "source": [
    "#### 1.2. Assign MDC"
   ]
  },
  {
   "cell_type": "code",
   "execution_count": 27,
   "metadata": {},
   "outputs": [],
   "source": [
    "# load ICD to MDC table\n",
    "icd2mdc=pd.read_csv('./LOOKUP_TABLES/1_5_ICD_to_MDC.csv',encoding='gbk')\n",
    "icd2mdc.drop(columns=['Unnamed: 0','ADRG_CODE','ADRG_NAME','AND_FLAG','GROUP_FLAG','is_icd_mdc'],inplace=True)"
   ]
  },
  {
   "cell_type": "code",
   "execution_count": 28,
   "metadata": {},
   "outputs": [
    {
     "data": {
      "text/html": [
       "<div>\n",
       "<style scoped>\n",
       "    .dataframe tbody tr th:only-of-type {\n",
       "        vertical-align: middle;\n",
       "    }\n",
       "\n",
       "    .dataframe tbody tr th {\n",
       "        vertical-align: top;\n",
       "    }\n",
       "\n",
       "    .dataframe thead th {\n",
       "        text-align: right;\n",
       "    }\n",
       "</style>\n",
       "<table border=\"1\" class=\"dataframe\">\n",
       "  <thead>\n",
       "    <tr style=\"text-align: right;\">\n",
       "      <th></th>\n",
       "      <th>MDC_CODE</th>\n",
       "      <th>MDC_NAME</th>\n",
       "      <th>ICD_CODE</th>\n",
       "      <th>ICD_DESC</th>\n",
       "    </tr>\n",
       "  </thead>\n",
       "  <tbody>\n",
       "    <tr>\n",
       "      <th>0</th>\n",
       "      <td>MDCB</td>\n",
       "      <td>神经系统疾病及功能障碍</td>\n",
       "      <td>A01.002+G01*</td>\n",
       "      <td>伤寒性脑膜炎</td>\n",
       "    </tr>\n",
       "    <tr>\n",
       "      <th>1</th>\n",
       "      <td>MDCB</td>\n",
       "      <td>神经系统疾病及功能障碍</td>\n",
       "      <td>A02.203+G01*</td>\n",
       "      <td>沙门菌脑膜炎</td>\n",
       "    </tr>\n",
       "    <tr>\n",
       "      <th>2</th>\n",
       "      <td>MDCB</td>\n",
       "      <td>神经系统疾病及功能障碍</td>\n",
       "      <td>A06.600+G07*</td>\n",
       "      <td>阿米巴脑脓肿</td>\n",
       "    </tr>\n",
       "    <tr>\n",
       "      <th>3</th>\n",
       "      <td>MDCB</td>\n",
       "      <td>神经系统疾病及功能障碍</td>\n",
       "      <td>A17.000+G01*</td>\n",
       "      <td>结核性脑膜炎</td>\n",
       "    </tr>\n",
       "    <tr>\n",
       "      <th>4</th>\n",
       "      <td>MDCB</td>\n",
       "      <td>神经系统疾病及功能障碍</td>\n",
       "      <td>A17.000x001+G05.0*</td>\n",
       "      <td>结核性脊膜炎</td>\n",
       "    </tr>\n",
       "  </tbody>\n",
       "</table>\n",
       "</div>"
      ],
      "text/plain": [
       "  MDC_CODE     MDC_NAME            ICD_CODE ICD_DESC\n",
       "0     MDCB  神经系统疾病及功能障碍        A01.002+G01*   伤寒性脑膜炎\n",
       "1     MDCB  神经系统疾病及功能障碍        A02.203+G01*   沙门菌脑膜炎\n",
       "2     MDCB  神经系统疾病及功能障碍        A06.600+G07*   阿米巴脑脓肿\n",
       "3     MDCB  神经系统疾病及功能障碍        A17.000+G01*   结核性脑膜炎\n",
       "4     MDCB  神经系统疾病及功能障碍  A17.000x001+G05.0*   结核性脊膜炎"
      ]
     },
     "execution_count": 28,
     "metadata": {},
     "output_type": "execute_result"
    }
   ],
   "source": [
    "icd2mdc.head()"
   ]
  },
  {
   "cell_type": "code",
   "execution_count": 34,
   "metadata": {},
   "outputs": [],
   "source": [
    "icd2mdc_dict={icd:mdc for icd,mdc in zip(icd2mdc.ICD_CODE,icd2mdc.MDC_CODE)}"
   ]
  },
  {
   "cell_type": "code",
   "execution_count": 30,
   "metadata": {},
   "outputs": [],
   "source": [
    "icd2mdc2adrg=pd.read_csv('./LOOKUP_TABLES/2_5_MDC_ICD9_to_ADRG.csv',encoding='utf-8')"
   ]
  },
  {
   "cell_type": "code",
   "execution_count": 31,
   "metadata": {},
   "outputs": [
    {
     "data": {
      "text/html": [
       "<div>\n",
       "<style scoped>\n",
       "    .dataframe tbody tr th:only-of-type {\n",
       "        vertical-align: middle;\n",
       "    }\n",
       "\n",
       "    .dataframe tbody tr th {\n",
       "        vertical-align: top;\n",
       "    }\n",
       "\n",
       "    .dataframe thead th {\n",
       "        text-align: right;\n",
       "    }\n",
       "</style>\n",
       "<table border=\"1\" class=\"dataframe\">\n",
       "  <thead>\n",
       "    <tr style=\"text-align: right;\">\n",
       "      <th></th>\n",
       "      <th>MDC_CODE</th>\n",
       "      <th>MDC_NAME</th>\n",
       "      <th>ADRG_CODE</th>\n",
       "      <th>ADRG_NAME</th>\n",
       "      <th>ICD_CODE</th>\n",
       "      <th>ICD_DESC</th>\n",
       "      <th>AND_FLAG</th>\n",
       "      <th>GROUP_FLAG</th>\n",
       "      <th>is_icd_mdc</th>\n",
       "      <th>is_icd9</th>\n",
       "    </tr>\n",
       "  </thead>\n",
       "  <tbody>\n",
       "    <tr>\n",
       "      <th>0</th>\n",
       "      <td>MDCA</td>\n",
       "      <td>先期分组疾病及相关操作</td>\n",
       "      <td>AA1</td>\n",
       "      <td>心脏移植</td>\n",
       "      <td>37.51</td>\n",
       "      <td>心脏移植术</td>\n",
       "      <td>N</td>\n",
       "      <td>0</td>\n",
       "      <td>True</td>\n",
       "      <td>True</td>\n",
       "    </tr>\n",
       "    <tr>\n",
       "      <th>1</th>\n",
       "      <td>MDCA</td>\n",
       "      <td>先期分组疾病及相关操作</td>\n",
       "      <td>AB1</td>\n",
       "      <td>肝移植</td>\n",
       "      <td>50.51</td>\n",
       "      <td>辅助肝移植</td>\n",
       "      <td>N</td>\n",
       "      <td>0</td>\n",
       "      <td>True</td>\n",
       "      <td>True</td>\n",
       "    </tr>\n",
       "    <tr>\n",
       "      <th>2</th>\n",
       "      <td>MDCA</td>\n",
       "      <td>先期分组疾病及相关操作</td>\n",
       "      <td>AB1</td>\n",
       "      <td>肝移植</td>\n",
       "      <td>50.5100x001</td>\n",
       "      <td>同种异体原位肝移植术</td>\n",
       "      <td>N</td>\n",
       "      <td>0</td>\n",
       "      <td>True</td>\n",
       "      <td>True</td>\n",
       "    </tr>\n",
       "    <tr>\n",
       "      <th>3</th>\n",
       "      <td>MDCA</td>\n",
       "      <td>先期分组疾病及相关操作</td>\n",
       "      <td>AB1</td>\n",
       "      <td>肝移植</td>\n",
       "      <td>50.5900x001</td>\n",
       "      <td>肝肾联合移植术</td>\n",
       "      <td>N</td>\n",
       "      <td>0</td>\n",
       "      <td>True</td>\n",
       "      <td>True</td>\n",
       "    </tr>\n",
       "    <tr>\n",
       "      <th>4</th>\n",
       "      <td>MDCA</td>\n",
       "      <td>先期分组疾病及相关操作</td>\n",
       "      <td>AB1</td>\n",
       "      <td>肝移植</td>\n",
       "      <td>50.5900x004</td>\n",
       "      <td>同种异体肝肾联合移植术</td>\n",
       "      <td>N</td>\n",
       "      <td>0</td>\n",
       "      <td>True</td>\n",
       "      <td>True</td>\n",
       "    </tr>\n",
       "  </tbody>\n",
       "</table>\n",
       "</div>"
      ],
      "text/plain": [
       "  MDC_CODE     MDC_NAME ADRG_CODE ADRG_NAME     ICD_CODE     ICD_DESC  \\\n",
       "0     MDCA  先期分组疾病及相关操作       AA1      心脏移植        37.51        心脏移植术   \n",
       "1     MDCA  先期分组疾病及相关操作       AB1       肝移植        50.51        辅助肝移植   \n",
       "2     MDCA  先期分组疾病及相关操作       AB1       肝移植  50.5100x001   同种异体原位肝移植术   \n",
       "3     MDCA  先期分组疾病及相关操作       AB1       肝移植  50.5900x001      肝肾联合移植术   \n",
       "4     MDCA  先期分组疾病及相关操作       AB1       肝移植  50.5900x004  同种异体肝肾联合移植术   \n",
       "\n",
       "  AND_FLAG  GROUP_FLAG  is_icd_mdc  is_icd9  \n",
       "0        N           0        True     True  \n",
       "1        N           0        True     True  \n",
       "2        N           0        True     True  \n",
       "3        N           0        True     True  \n",
       "4        N           0        True     True  "
      ]
     },
     "execution_count": 31,
     "metadata": {},
     "output_type": "execute_result"
    }
   ],
   "source": [
    "icd2mdc2adrg.head()"
   ]
  },
  {
   "cell_type": "code",
   "execution_count": 79,
   "metadata": {},
   "outputs": [],
   "source": [
    "# 查找那些pre-mdc是只通过手术编码来确定的\n",
    "icd9_pre_mdc_check=icd2mdc2adrg.groupby('MDC_CODE')['is_icd9'].prod()\n",
    "icd9_pre_mdc_check=icd9_pre_mdc_check.to_frame()"
   ]
  },
  {
   "cell_type": "code",
   "execution_count": 82,
   "metadata": {},
   "outputs": [
    {
     "data": {
      "text/html": [
       "<div>\n",
       "<style scoped>\n",
       "    .dataframe tbody tr th:only-of-type {\n",
       "        vertical-align: middle;\n",
       "    }\n",
       "\n",
       "    .dataframe tbody tr th {\n",
       "        vertical-align: top;\n",
       "    }\n",
       "\n",
       "    .dataframe thead th {\n",
       "        text-align: right;\n",
       "    }\n",
       "</style>\n",
       "<table border=\"1\" class=\"dataframe\">\n",
       "  <thead>\n",
       "    <tr style=\"text-align: right;\">\n",
       "      <th></th>\n",
       "      <th>is_icd9</th>\n",
       "    </tr>\n",
       "    <tr>\n",
       "      <th>MDC_CODE</th>\n",
       "      <th></th>\n",
       "    </tr>\n",
       "  </thead>\n",
       "  <tbody>\n",
       "    <tr>\n",
       "      <th>MDCA</th>\n",
       "      <td>True</td>\n",
       "    </tr>\n",
       "    <tr>\n",
       "      <th>MDCZ</th>\n",
       "      <td>True</td>\n",
       "    </tr>\n",
       "  </tbody>\n",
       "</table>\n",
       "</div>"
      ],
      "text/plain": [
       "          is_icd9\n",
       "MDC_CODE         \n",
       "MDCA         True\n",
       "MDCZ         True"
      ]
     },
     "execution_count": 82,
     "metadata": {},
     "output_type": "execute_result"
    }
   ],
   "source": [
    "icd9_pre_mdc_check.loc[icd9_pre_mdc_check.is_icd9==True]"
   ]
  },
  {
   "cell_type": "code",
   "execution_count": 124,
   "metadata": {},
   "outputs": [],
   "source": [
    "# 实际观察MDCZ作为pre-mdc在计算时有问题，暂不纳入，估计原来纳入考虑医学因素比较多，在医学上是融洽的\n",
    "icd9mdc=icd2mdc2adrg.loc[(icd2mdc2adrg.is_icd9==True) \\\n",
    "                 & (\\\n",
    "                    (icd2mdc2adrg.MDC_CODE=='MDCA') \\\n",
    "#                     |(icd2mdc2adrg.MDC_CODE=='MDCP')\\\n",
    "#                     |(icd2mdc2adrg.MDC_CODE=='MDCY')\\\n",
    "#                     |(icd2mdc2adrg.MDC_CODE=='MDCZ')\\\n",
    "                   )].copy()"
   ]
  },
  {
   "cell_type": "code",
   "execution_count": 126,
   "metadata": {},
   "outputs": [],
   "source": [
    "icd9mdc_dict={icd:mdc for icd,mdc in zip(icd9mdc.ICD_CODE,icd9mdc.MDC_CODE)}"
   ]
  },
  {
   "cell_type": "code",
   "execution_count": 127,
   "metadata": {},
   "outputs": [],
   "source": [
    "# process pre_mdcs needed\n",
    "# 'MDCA','MDCP','MDCY','MDCZ'\n",
    "# 依据诊断部分可与普通分组一起处理，依据手术和年龄的pre-mdc需单独处理\n",
    "# mdc_r(eal) adrg_r(eal),etc\n",
    "case_data['mdc_r']=case_data['diag_p'].apply(lambda x:icd2mdc_dict.get(x,'NA'))\n",
    "\n",
    "# 分开处理的依据手术操作确认的pre-mdc部分,mdc_r2为临时变量\n",
    "case_data['mdc_r2']=case_data['oper_p'].apply(lambda x:icd9mdc_dict.get(x,'NA'))\n",
    "\n",
    "case_data.loc[case_data.mdc_r2!='NA','mdc_r']=case_data.mdc_r2\n",
    "\n",
    "# 假装处理一下按年龄的pre-mdc实际dummy数据不存在这部分数据\n",
    "case_data.loc[case_data.age<1,'mdc_r']='MDCP'\n",
    "\n",
    "case_data.drop(columns=['mdc_r2'],inplace=True)"
   ]
  },
  {
   "cell_type": "code",
   "execution_count": 136,
   "metadata": {},
   "outputs": [
    {
     "data": {
      "text/html": [
       "<div>\n",
       "<style scoped>\n",
       "    .dataframe tbody tr th:only-of-type {\n",
       "        vertical-align: middle;\n",
       "    }\n",
       "\n",
       "    .dataframe tbody tr th {\n",
       "        vertical-align: top;\n",
       "    }\n",
       "\n",
       "    .dataframe thead th {\n",
       "        text-align: right;\n",
       "    }\n",
       "</style>\n",
       "<table border=\"1\" class=\"dataframe\">\n",
       "  <thead>\n",
       "    <tr style=\"text-align: right;\">\n",
       "      <th></th>\n",
       "      <th>case_id</th>\n",
       "      <th>gender</th>\n",
       "      <th>age</th>\n",
       "      <th>diag_p</th>\n",
       "      <th>diag_oth</th>\n",
       "      <th>oper_p</th>\n",
       "      <th>fee</th>\n",
       "      <th>mdci</th>\n",
       "      <th>adrgi</th>\n",
       "      <th>drgii</th>\n",
       "      <th>mdc_r</th>\n",
       "    </tr>\n",
       "  </thead>\n",
       "  <tbody>\n",
       "    <tr>\n",
       "      <th>4</th>\n",
       "      <td>ectQx</td>\n",
       "      <td>0</td>\n",
       "      <td>78</td>\n",
       "      <td>D37.019</td>\n",
       "      <td>T82.501</td>\n",
       "      <td>NaN</td>\n",
       "      <td>389.045262</td>\n",
       "      <td>MDCD</td>\n",
       "      <td>DR1</td>\n",
       "      <td>DR13</td>\n",
       "      <td>MDCD</td>\n",
       "    </tr>\n",
       "    <tr>\n",
       "      <th>5</th>\n",
       "      <td>URvIm</td>\n",
       "      <td>0</td>\n",
       "      <td>39</td>\n",
       "      <td>R82.500x004</td>\n",
       "      <td>T91.205</td>\n",
       "      <td>NaN</td>\n",
       "      <td>621.433309</td>\n",
       "      <td>MDCL</td>\n",
       "      <td>LW1</td>\n",
       "      <td>LW15</td>\n",
       "      <td>MDCL</td>\n",
       "    </tr>\n",
       "    <tr>\n",
       "      <th>7</th>\n",
       "      <td>KbqpW</td>\n",
       "      <td>0</td>\n",
       "      <td>73</td>\n",
       "      <td>N71.001</td>\n",
       "      <td>I72.400x310</td>\n",
       "      <td>NaN</td>\n",
       "      <td>822.699113</td>\n",
       "      <td>MDCN</td>\n",
       "      <td>NS1</td>\n",
       "      <td>NS19</td>\n",
       "      <td>MDCN</td>\n",
       "    </tr>\n",
       "    <tr>\n",
       "      <th>9</th>\n",
       "      <td>ZSFiM</td>\n",
       "      <td>0</td>\n",
       "      <td>75</td>\n",
       "      <td>O00.804</td>\n",
       "      <td>D69.500</td>\n",
       "      <td>65.0102</td>\n",
       "      <td>630.643490</td>\n",
       "      <td>MDCO</td>\n",
       "      <td>OE1</td>\n",
       "      <td>OE19</td>\n",
       "      <td>MDCO</td>\n",
       "    </tr>\n",
       "    <tr>\n",
       "      <th>11</th>\n",
       "      <td>LkpPL</td>\n",
       "      <td>0</td>\n",
       "      <td>40</td>\n",
       "      <td>R04.800x002</td>\n",
       "      <td>I80.804</td>\n",
       "      <td>NaN</td>\n",
       "      <td>363.638841</td>\n",
       "      <td>MDCE</td>\n",
       "      <td>EV1</td>\n",
       "      <td>EV19</td>\n",
       "      <td>MDCE</td>\n",
       "    </tr>\n",
       "  </tbody>\n",
       "</table>\n",
       "</div>"
      ],
      "text/plain": [
       "   case_id  gender  age       diag_p     diag_oth   oper_p         fee  mdci  \\\n",
       "4    ectQx       0   78      D37.019      T82.501      NaN  389.045262  MDCD   \n",
       "5    URvIm       0   39  R82.500x004      T91.205      NaN  621.433309  MDCL   \n",
       "7    KbqpW       0   73      N71.001  I72.400x310      NaN  822.699113  MDCN   \n",
       "9    ZSFiM       0   75      O00.804      D69.500  65.0102  630.643490  MDCO   \n",
       "11   LkpPL       0   40  R04.800x002      I80.804      NaN  363.638841  MDCE   \n",
       "\n",
       "   adrgi drgii mdc_r  \n",
       "4    DR1  DR13  MDCD  \n",
       "5    LW1  LW15  MDCL  \n",
       "7    NS1  NS19  MDCN  \n",
       "9    OE1  OE19  MDCO  \n",
       "11   EV1  EV19  MDCE  "
      ]
     },
     "execution_count": 136,
     "metadata": {},
     "output_type": "execute_result"
    }
   ],
   "source": [
    "case_data.head()"
   ]
  },
  {
   "cell_type": "markdown",
   "metadata": {},
   "source": [
    "#### 1.3. Assign ADRG"
   ]
  },
  {
   "cell_type": "code",
   "execution_count": 138,
   "metadata": {},
   "outputs": [
    {
     "data": {
      "text/html": [
       "<div>\n",
       "<style scoped>\n",
       "    .dataframe tbody tr th:only-of-type {\n",
       "        vertical-align: middle;\n",
       "    }\n",
       "\n",
       "    .dataframe tbody tr th {\n",
       "        vertical-align: top;\n",
       "    }\n",
       "\n",
       "    .dataframe thead th {\n",
       "        text-align: right;\n",
       "    }\n",
       "</style>\n",
       "<table border=\"1\" class=\"dataframe\">\n",
       "  <thead>\n",
       "    <tr style=\"text-align: right;\">\n",
       "      <th></th>\n",
       "      <th>MDC_CODE</th>\n",
       "      <th>MDC_NAME</th>\n",
       "      <th>ADRG_CODE</th>\n",
       "      <th>ADRG_NAME</th>\n",
       "      <th>ICD_CODE</th>\n",
       "      <th>ICD_DESC</th>\n",
       "      <th>AND_FLAG</th>\n",
       "      <th>GROUP_FLAG</th>\n",
       "      <th>is_icd_mdc</th>\n",
       "      <th>is_icd9</th>\n",
       "    </tr>\n",
       "  </thead>\n",
       "  <tbody>\n",
       "    <tr>\n",
       "      <th>0</th>\n",
       "      <td>MDCA</td>\n",
       "      <td>先期分组疾病及相关操作</td>\n",
       "      <td>AA1</td>\n",
       "      <td>心脏移植</td>\n",
       "      <td>37.51</td>\n",
       "      <td>心脏移植术</td>\n",
       "      <td>N</td>\n",
       "      <td>0</td>\n",
       "      <td>True</td>\n",
       "      <td>True</td>\n",
       "    </tr>\n",
       "    <tr>\n",
       "      <th>1</th>\n",
       "      <td>MDCA</td>\n",
       "      <td>先期分组疾病及相关操作</td>\n",
       "      <td>AB1</td>\n",
       "      <td>肝移植</td>\n",
       "      <td>50.51</td>\n",
       "      <td>辅助肝移植</td>\n",
       "      <td>N</td>\n",
       "      <td>0</td>\n",
       "      <td>True</td>\n",
       "      <td>True</td>\n",
       "    </tr>\n",
       "    <tr>\n",
       "      <th>2</th>\n",
       "      <td>MDCA</td>\n",
       "      <td>先期分组疾病及相关操作</td>\n",
       "      <td>AB1</td>\n",
       "      <td>肝移植</td>\n",
       "      <td>50.5100x001</td>\n",
       "      <td>同种异体原位肝移植术</td>\n",
       "      <td>N</td>\n",
       "      <td>0</td>\n",
       "      <td>True</td>\n",
       "      <td>True</td>\n",
       "    </tr>\n",
       "  </tbody>\n",
       "</table>\n",
       "</div>"
      ],
      "text/plain": [
       "  MDC_CODE     MDC_NAME ADRG_CODE ADRG_NAME     ICD_CODE    ICD_DESC AND_FLAG  \\\n",
       "0     MDCA  先期分组疾病及相关操作       AA1      心脏移植        37.51       心脏移植术        N   \n",
       "1     MDCA  先期分组疾病及相关操作       AB1       肝移植        50.51       辅助肝移植        N   \n",
       "2     MDCA  先期分组疾病及相关操作       AB1       肝移植  50.5100x001  同种异体原位肝移植术        N   \n",
       "\n",
       "   GROUP_FLAG  is_icd_mdc  is_icd9  \n",
       "0           0        True     True  \n",
       "1           0        True     True  \n",
       "2           0        True     True  "
      ]
     },
     "execution_count": 138,
     "metadata": {},
     "output_type": "execute_result"
    }
   ],
   "source": [
    "icd2mdc2adrg.head(3)"
   ]
  },
  {
   "cell_type": "code",
   "execution_count": 139,
   "metadata": {},
   "outputs": [],
   "source": [
    "# 类似通过MDC+ICD10/9查到对应的ADRG，到这看起来前面MDC这一步有点冗余，但MDC主要能通过先期分组吸纳了一些特殊病例\n",
    "# 此处实际存在不唯一性需要地方细化规则，目前处理重复的key是以最后一次出现的value为准\n",
    "# 以MDCO+O00.804 为例，实际分到了OE1与OT1两个ADRG组\n",
    "mdc_icd9_adrg_dict={(mdc,icd):adrg for mdc,icd,adrg in zip(icd2mdc2adrg.MDC_CODE,icd2mdc2adrg.ICD_CODE,icd2mdc2adrg.ADRG_CODE)}"
   ]
  },
  {
   "cell_type": "code",
   "execution_count": 140,
   "metadata": {},
   "outputs": [
    {
     "data": {
      "text/plain": [
       "'AB1'"
      ]
     },
     "execution_count": 140,
     "metadata": {},
     "output_type": "execute_result"
    }
   ],
   "source": [
    "mdc_icd9_adrg_dict[('MDCA','50.51')]"
   ]
  },
  {
   "cell_type": "code",
   "execution_count": 149,
   "metadata": {},
   "outputs": [],
   "source": [
    "# 先按diag_p\n",
    "case_data['adrg_r']=case_data[['mdc_r','diag_p']].apply(lambda x:mdc_icd9_adrg_dict.get(tuple(x),'NA'),axis=1)"
   ]
  },
  {
   "cell_type": "code",
   "execution_count": 151,
   "metadata": {},
   "outputs": [],
   "source": [
    "# 再按oper_p,adrg_r2为临时变量\n",
    "case_data['adrg_r2']=case_data[['mdc_r','oper_p']].apply(lambda x:icd9mdc_dict.get(tuple(x),'NA'),axis=1)"
   ]
  },
  {
   "cell_type": "code",
   "execution_count": null,
   "metadata": {},
   "outputs": [],
   "source": [
    "# 再检测一致性，不一致的先偷懒标为错误病历,实际需要调整本地化的规则\n",
    "case_data['error_case']=False\n",
    "\n",
    "case_data.loc[(case_data.adrg_r2!='NA') & (case_data.adrg_r!=case_data.adrg_r2),'error_case']=True\n",
    "\n",
    "case_data=case_data.loc[case_data.error_case==False].copy()\n",
    "\n",
    "case_data.drop(columns=['adrg_r2'],inplace=True)"
   ]
  },
  {
   "cell_type": "code",
   "execution_count": 163,
   "metadata": {},
   "outputs": [
    {
     "data": {
      "text/html": [
       "<div>\n",
       "<style scoped>\n",
       "    .dataframe tbody tr th:only-of-type {\n",
       "        vertical-align: middle;\n",
       "    }\n",
       "\n",
       "    .dataframe tbody tr th {\n",
       "        vertical-align: top;\n",
       "    }\n",
       "\n",
       "    .dataframe thead th {\n",
       "        text-align: right;\n",
       "    }\n",
       "</style>\n",
       "<table border=\"1\" class=\"dataframe\">\n",
       "  <thead>\n",
       "    <tr style=\"text-align: right;\">\n",
       "      <th></th>\n",
       "      <th>case_id</th>\n",
       "      <th>gender</th>\n",
       "      <th>age</th>\n",
       "      <th>diag_p</th>\n",
       "      <th>diag_oth</th>\n",
       "      <th>oper_p</th>\n",
       "      <th>fee</th>\n",
       "      <th>mdci</th>\n",
       "      <th>adrgi</th>\n",
       "      <th>drgii</th>\n",
       "      <th>mdc_r</th>\n",
       "      <th>adrg_r</th>\n",
       "      <th>error_case</th>\n",
       "    </tr>\n",
       "  </thead>\n",
       "  <tbody>\n",
       "    <tr>\n",
       "      <th>4</th>\n",
       "      <td>ectQx</td>\n",
       "      <td>0</td>\n",
       "      <td>78</td>\n",
       "      <td>D37.019</td>\n",
       "      <td>T82.501</td>\n",
       "      <td>NaN</td>\n",
       "      <td>389.045262</td>\n",
       "      <td>MDCD</td>\n",
       "      <td>DR1</td>\n",
       "      <td>DR13</td>\n",
       "      <td>MDCD</td>\n",
       "      <td>DR1</td>\n",
       "      <td>False</td>\n",
       "    </tr>\n",
       "    <tr>\n",
       "      <th>5</th>\n",
       "      <td>URvIm</td>\n",
       "      <td>0</td>\n",
       "      <td>39</td>\n",
       "      <td>R82.500x004</td>\n",
       "      <td>T91.205</td>\n",
       "      <td>NaN</td>\n",
       "      <td>621.433309</td>\n",
       "      <td>MDCL</td>\n",
       "      <td>LW1</td>\n",
       "      <td>LW15</td>\n",
       "      <td>MDCL</td>\n",
       "      <td>LW1</td>\n",
       "      <td>False</td>\n",
       "    </tr>\n",
       "    <tr>\n",
       "      <th>7</th>\n",
       "      <td>KbqpW</td>\n",
       "      <td>0</td>\n",
       "      <td>73</td>\n",
       "      <td>N71.001</td>\n",
       "      <td>I72.400x310</td>\n",
       "      <td>NaN</td>\n",
       "      <td>822.699113</td>\n",
       "      <td>MDCN</td>\n",
       "      <td>NS1</td>\n",
       "      <td>NS19</td>\n",
       "      <td>MDCN</td>\n",
       "      <td>NS1</td>\n",
       "      <td>False</td>\n",
       "    </tr>\n",
       "    <tr>\n",
       "      <th>9</th>\n",
       "      <td>ZSFiM</td>\n",
       "      <td>0</td>\n",
       "      <td>75</td>\n",
       "      <td>O00.804</td>\n",
       "      <td>D69.500</td>\n",
       "      <td>65.0102</td>\n",
       "      <td>630.643490</td>\n",
       "      <td>MDCO</td>\n",
       "      <td>OE1</td>\n",
       "      <td>OE19</td>\n",
       "      <td>MDCO</td>\n",
       "      <td>OT1</td>\n",
       "      <td>False</td>\n",
       "    </tr>\n",
       "    <tr>\n",
       "      <th>11</th>\n",
       "      <td>LkpPL</td>\n",
       "      <td>0</td>\n",
       "      <td>40</td>\n",
       "      <td>R04.800x002</td>\n",
       "      <td>I80.804</td>\n",
       "      <td>NaN</td>\n",
       "      <td>363.638841</td>\n",
       "      <td>MDCE</td>\n",
       "      <td>EV1</td>\n",
       "      <td>EV19</td>\n",
       "      <td>MDCE</td>\n",
       "      <td>EV1</td>\n",
       "      <td>False</td>\n",
       "    </tr>\n",
       "  </tbody>\n",
       "</table>\n",
       "</div>"
      ],
      "text/plain": [
       "   case_id  gender  age       diag_p     diag_oth   oper_p         fee  mdci  \\\n",
       "4    ectQx       0   78      D37.019      T82.501      NaN  389.045262  MDCD   \n",
       "5    URvIm       0   39  R82.500x004      T91.205      NaN  621.433309  MDCL   \n",
       "7    KbqpW       0   73      N71.001  I72.400x310      NaN  822.699113  MDCN   \n",
       "9    ZSFiM       0   75      O00.804      D69.500  65.0102  630.643490  MDCO   \n",
       "11   LkpPL       0   40  R04.800x002      I80.804      NaN  363.638841  MDCE   \n",
       "\n",
       "   adrgi drgii mdc_r adrg_r  error_case  \n",
       "4    DR1  DR13  MDCD    DR1       False  \n",
       "5    LW1  LW15  MDCL    LW1       False  \n",
       "7    NS1  NS19  MDCN    NS1       False  \n",
       "9    OE1  OE19  MDCO    OT1       False  \n",
       "11   EV1  EV19  MDCE    EV1       False  "
      ]
     },
     "execution_count": 163,
     "metadata": {},
     "output_type": "execute_result"
    }
   ],
   "source": [
    "case_data.head()"
   ]
  },
  {
   "cell_type": "markdown",
   "metadata": {},
   "source": [
    "#### 1.4. Assign DRG"
   ]
  },
  {
   "cell_type": "markdown",
   "metadata": {},
   "source": [
    "##### 1.4.1 apply MCC/CC Rules"
   ]
  },
  {
   "cell_type": "code",
   "execution_count": 164,
   "metadata": {},
   "outputs": [],
   "source": [
    "# Load MCC/CC list and Exclude Rules\n",
    "# 此处应用美国模式偏向医学经验，澳洲模式偏大数据，有空再试\n",
    "mcc_lst=pd.read_csv('./LOOKUP_TABLES/5_MCC_LIST_GB2312.csv',encoding='gbk')\n",
    "cc_lst=pd.read_csv('./LOOKUP_TABLES/6_CC_LIST_GB2312.csv',encoding='gbk')\n",
    "mcc_cc_ex=pd.read_csv('./LOOKUP_TABLES/7_MCC_CC_EXCLUDE_GB2312.csv',encoding='gbk')"
   ]
  },
  {
   "cell_type": "code",
   "execution_count": 175,
   "metadata": {},
   "outputs": [],
   "source": [
    "mcc_rule_dict={mcc:rule for mcc,rule in zip(mcc_lst.MCC_ICD_CODE,mcc_lst.EXCLUDE)}\n",
    "cc_rule_dict={cc:rule for cc,rule in zip(cc_lst.CC_ICD_CODE,cc_lst.CC_EXCLUDE)}"
   ]
  },
  {
   "cell_type": "code",
   "execution_count": 172,
   "metadata": {},
   "outputs": [],
   "source": [
    "mcc_cc_ex_dict=mcc_cc_ex.groupby('TABLE_NO')['ICD_CODE'].apply(list)\n",
    "mcc_cc_ex_dict=mcc_cc_ex_dict.to_dict()"
   ]
  },
  {
   "cell_type": "code",
   "execution_count": 185,
   "metadata": {},
   "outputs": [],
   "source": [
    "mcc_lst=mcc_lst.MCC_ICD_CODE.to_list()\n",
    "cc_lst=cc_lst.CC_ICD_CODE.to_list()"
   ]
  },
  {
   "cell_type": "code",
   "execution_count": 181,
   "metadata": {},
   "outputs": [
    {
     "data": {
      "text/plain": [
       "['A00.000x001', 'A00.100x001', 'A00.900', 'A00.900x002', 'A00.900x003']"
      ]
     },
     "execution_count": 181,
     "metadata": {},
     "output_type": "execute_result"
    }
   ],
   "source": [
    "mcc_cc_ex_dict[cc_rule_dict['A03.200x001']][:5]"
   ]
  },
  {
   "cell_type": "code",
   "execution_count": 187,
   "metadata": {},
   "outputs": [
    {
     "data": {
      "text/plain": [
       "False"
      ]
     },
     "execution_count": 187,
     "metadata": {},
     "output_type": "execute_result"
    }
   ],
   "source": [
    "'A02.100' not in mcc_lst#.MCC_ICD_CODE.to_list()"
   ]
  },
  {
   "cell_type": "code",
   "execution_count": 189,
   "metadata": {},
   "outputs": [],
   "source": [
    "def is_mcc(input_data):\n",
    "    diag_p,diag_oth=input_data\n",
    "    rule=mcc_rule_dict.get(diag_oth,'NA')\n",
    "    if rule=='NA':\n",
    "        return False\n",
    "    elif diag_p in mcc_cc_ex_dict.get(rule,[]):\n",
    "        return False\n",
    "    else:\n",
    "        return True"
   ]
  },
  {
   "cell_type": "code",
   "execution_count": 192,
   "metadata": {},
   "outputs": [],
   "source": [
    "# 偷懒写两遍算了,也清晰点:-P\n",
    "def is_cc(input_data):\n",
    "    diag_p,diag_oth=input_data\n",
    "    rule=cc_rule_dict.get(diag_oth,'NA')\n",
    "    if rule=='NA':\n",
    "        return False\n",
    "    elif diag_p in mcc_cc_ex_dict.get(rule,[]):\n",
    "        return False\n",
    "    else:\n",
    "        return True"
   ]
  },
  {
   "cell_type": "code",
   "execution_count": null,
   "metadata": {},
   "outputs": [],
   "source": [
    "# try brief lambda script failed...\n",
    "# diag_p in mcc_cc_ex_dict.get(mcc_rule_dict.get(diag_oth,'NA'),[])"
   ]
  },
  {
   "cell_type": "code",
   "execution_count": 171,
   "metadata": {},
   "outputs": [],
   "source": [
    "case_data['has_mcc']=False\n",
    "case_data['has_cc']=False"
   ]
  },
  {
   "cell_type": "code",
   "execution_count": 191,
   "metadata": {},
   "outputs": [],
   "source": [
    "case_data['has_mcc']=case_data[['diag_p','diag_oth']].apply(is_mcc,axis=1)\n",
    "case_data['has_cc']=case_data[['diag_p','diag_oth']].apply(is_cc,axis=1)"
   ]
  },
  {
   "cell_type": "code",
   "execution_count": 194,
   "metadata": {},
   "outputs": [
    {
     "data": {
      "text/html": [
       "<div>\n",
       "<style scoped>\n",
       "    .dataframe tbody tr th:only-of-type {\n",
       "        vertical-align: middle;\n",
       "    }\n",
       "\n",
       "    .dataframe tbody tr th {\n",
       "        vertical-align: top;\n",
       "    }\n",
       "\n",
       "    .dataframe thead th {\n",
       "        text-align: right;\n",
       "    }\n",
       "</style>\n",
       "<table border=\"1\" class=\"dataframe\">\n",
       "  <thead>\n",
       "    <tr style=\"text-align: right;\">\n",
       "      <th></th>\n",
       "      <th>case_id</th>\n",
       "      <th>gender</th>\n",
       "      <th>age</th>\n",
       "      <th>diag_p</th>\n",
       "      <th>diag_oth</th>\n",
       "      <th>oper_p</th>\n",
       "      <th>fee</th>\n",
       "      <th>mdci</th>\n",
       "      <th>adrgi</th>\n",
       "      <th>drgii</th>\n",
       "      <th>mdc_r</th>\n",
       "      <th>adrg_r</th>\n",
       "      <th>error_case</th>\n",
       "      <th>has_mcc</th>\n",
       "      <th>has_cc</th>\n",
       "    </tr>\n",
       "  </thead>\n",
       "  <tbody>\n",
       "    <tr>\n",
       "      <th>4</th>\n",
       "      <td>ectQx</td>\n",
       "      <td>0</td>\n",
       "      <td>78</td>\n",
       "      <td>D37.019</td>\n",
       "      <td>T82.501</td>\n",
       "      <td>NaN</td>\n",
       "      <td>389.045262</td>\n",
       "      <td>MDCD</td>\n",
       "      <td>DR1</td>\n",
       "      <td>DR13</td>\n",
       "      <td>MDCD</td>\n",
       "      <td>DR1</td>\n",
       "      <td>False</td>\n",
       "      <td>True</td>\n",
       "      <td>False</td>\n",
       "    </tr>\n",
       "    <tr>\n",
       "      <th>5</th>\n",
       "      <td>URvIm</td>\n",
       "      <td>0</td>\n",
       "      <td>39</td>\n",
       "      <td>R82.500x004</td>\n",
       "      <td>T91.205</td>\n",
       "      <td>NaN</td>\n",
       "      <td>621.433309</td>\n",
       "      <td>MDCL</td>\n",
       "      <td>LW1</td>\n",
       "      <td>LW15</td>\n",
       "      <td>MDCL</td>\n",
       "      <td>LW1</td>\n",
       "      <td>False</td>\n",
       "      <td>True</td>\n",
       "      <td>False</td>\n",
       "    </tr>\n",
       "    <tr>\n",
       "      <th>7</th>\n",
       "      <td>KbqpW</td>\n",
       "      <td>0</td>\n",
       "      <td>73</td>\n",
       "      <td>N71.001</td>\n",
       "      <td>I72.400x310</td>\n",
       "      <td>NaN</td>\n",
       "      <td>822.699113</td>\n",
       "      <td>MDCN</td>\n",
       "      <td>NS1</td>\n",
       "      <td>NS19</td>\n",
       "      <td>MDCN</td>\n",
       "      <td>NS1</td>\n",
       "      <td>False</td>\n",
       "      <td>True</td>\n",
       "      <td>False</td>\n",
       "    </tr>\n",
       "    <tr>\n",
       "      <th>9</th>\n",
       "      <td>ZSFiM</td>\n",
       "      <td>0</td>\n",
       "      <td>75</td>\n",
       "      <td>O00.804</td>\n",
       "      <td>D69.500</td>\n",
       "      <td>65.0102</td>\n",
       "      <td>630.643490</td>\n",
       "      <td>MDCO</td>\n",
       "      <td>OE1</td>\n",
       "      <td>OE19</td>\n",
       "      <td>MDCO</td>\n",
       "      <td>OT1</td>\n",
       "      <td>False</td>\n",
       "      <td>True</td>\n",
       "      <td>False</td>\n",
       "    </tr>\n",
       "    <tr>\n",
       "      <th>11</th>\n",
       "      <td>LkpPL</td>\n",
       "      <td>0</td>\n",
       "      <td>40</td>\n",
       "      <td>R04.800x002</td>\n",
       "      <td>I80.804</td>\n",
       "      <td>NaN</td>\n",
       "      <td>363.638841</td>\n",
       "      <td>MDCE</td>\n",
       "      <td>EV1</td>\n",
       "      <td>EV19</td>\n",
       "      <td>MDCE</td>\n",
       "      <td>EV1</td>\n",
       "      <td>False</td>\n",
       "      <td>True</td>\n",
       "      <td>False</td>\n",
       "    </tr>\n",
       "  </tbody>\n",
       "</table>\n",
       "</div>"
      ],
      "text/plain": [
       "   case_id  gender  age       diag_p     diag_oth   oper_p         fee  mdci  \\\n",
       "4    ectQx       0   78      D37.019      T82.501      NaN  389.045262  MDCD   \n",
       "5    URvIm       0   39  R82.500x004      T91.205      NaN  621.433309  MDCL   \n",
       "7    KbqpW       0   73      N71.001  I72.400x310      NaN  822.699113  MDCN   \n",
       "9    ZSFiM       0   75      O00.804      D69.500  65.0102  630.643490  MDCO   \n",
       "11   LkpPL       0   40  R04.800x002      I80.804      NaN  363.638841  MDCE   \n",
       "\n",
       "   adrgi drgii mdc_r adrg_r  error_case  has_mcc  has_cc  \n",
       "4    DR1  DR13  MDCD    DR1       False     True   False  \n",
       "5    LW1  LW15  MDCL    LW1       False     True   False  \n",
       "7    NS1  NS19  MDCN    NS1       False     True   False  \n",
       "9    OE1  OE19  MDCO    OT1       False     True   False  \n",
       "11   EV1  EV19  MDCE    EV1       False     True   False  "
      ]
     },
     "execution_count": 194,
     "metadata": {},
     "output_type": "execute_result"
    }
   ],
   "source": [
    "case_data.head()"
   ]
  },
  {
   "cell_type": "code",
   "execution_count": 215,
   "metadata": {},
   "outputs": [],
   "source": [
    "cv_check=case_data.groupby('adrg_r')['fee'].agg(['mean','std'])"
   ]
  },
  {
   "cell_type": "code",
   "execution_count": 218,
   "metadata": {},
   "outputs": [],
   "source": [
    "cv_check['cv']=cv_check['std']/cv_check['mean']"
   ]
  },
  {
   "cell_type": "code",
   "execution_count": 219,
   "metadata": {},
   "outputs": [
    {
     "data": {
      "text/html": [
       "<div>\n",
       "<style scoped>\n",
       "    .dataframe tbody tr th:only-of-type {\n",
       "        vertical-align: middle;\n",
       "    }\n",
       "\n",
       "    .dataframe tbody tr th {\n",
       "        vertical-align: top;\n",
       "    }\n",
       "\n",
       "    .dataframe thead th {\n",
       "        text-align: right;\n",
       "    }\n",
       "</style>\n",
       "<table border=\"1\" class=\"dataframe\">\n",
       "  <thead>\n",
       "    <tr style=\"text-align: right;\">\n",
       "      <th></th>\n",
       "      <th>mean</th>\n",
       "      <th>std</th>\n",
       "      <th>cv</th>\n",
       "    </tr>\n",
       "  </thead>\n",
       "  <tbody>\n",
       "    <tr>\n",
       "      <th>count</th>\n",
       "      <td>190.000000</td>\n",
       "      <td>188.000000</td>\n",
       "      <td>188.000000</td>\n",
       "    </tr>\n",
       "    <tr>\n",
       "      <th>mean</th>\n",
       "      <td>461.984154</td>\n",
       "      <td>8.020920</td>\n",
       "      <td>0.017463</td>\n",
       "    </tr>\n",
       "    <tr>\n",
       "      <th>std</th>\n",
       "      <td>261.654113</td>\n",
       "      <td>36.914920</td>\n",
       "      <td>0.062646</td>\n",
       "    </tr>\n",
       "    <tr>\n",
       "      <th>min</th>\n",
       "      <td>137.441712</td>\n",
       "      <td>0.740732</td>\n",
       "      <td>0.000869</td>\n",
       "    </tr>\n",
       "    <tr>\n",
       "      <th>25%</th>\n",
       "      <td>212.728414</td>\n",
       "      <td>2.033367</td>\n",
       "      <td>0.004407</td>\n",
       "    </tr>\n",
       "    <tr>\n",
       "      <th>50%</th>\n",
       "      <td>397.113394</td>\n",
       "      <td>3.071928</td>\n",
       "      <td>0.007130</td>\n",
       "    </tr>\n",
       "    <tr>\n",
       "      <th>75%</th>\n",
       "      <td>627.523682</td>\n",
       "      <td>4.007857</td>\n",
       "      <td>0.012638</td>\n",
       "    </tr>\n",
       "    <tr>\n",
       "      <th>max</th>\n",
       "      <td>994.324898</td>\n",
       "      <td>348.667253</td>\n",
       "      <td>0.556685</td>\n",
       "    </tr>\n",
       "  </tbody>\n",
       "</table>\n",
       "</div>"
      ],
      "text/plain": [
       "             mean         std          cv\n",
       "count  190.000000  188.000000  188.000000\n",
       "mean   461.984154    8.020920    0.017463\n",
       "std    261.654113   36.914920    0.062646\n",
       "min    137.441712    0.740732    0.000869\n",
       "25%    212.728414    2.033367    0.004407\n",
       "50%    397.113394    3.071928    0.007130\n",
       "75%    627.523682    4.007857    0.012638\n",
       "max    994.324898  348.667253    0.556685"
      ]
     },
     "execution_count": 219,
     "metadata": {},
     "output_type": "execute_result"
    }
   ],
   "source": [
    "# 造数据时候CV设置小了-_-!\n",
    "cv_check.describe()"
   ]
  },
  {
   "cell_type": "markdown",
   "metadata": {},
   "source": [
    "##### 1.4.2. Train DRG grouper"
   ]
  },
  {
   "cell_type": "code",
   "execution_count": null,
   "metadata": {},
   "outputs": [],
   "source": [
    "# Start DRG Tree"
   ]
  },
  {
   "cell_type": "code",
   "execution_count": 448,
   "metadata": {},
   "outputs": [],
   "source": [
    "# “1”表示伴有严重并发症与合并症;\n",
    "# “3”表示表 示伴有一般并发症与合并症;\n",
    "# “5”表示不伴有并发症与合并症;\n",
    "# “7”表示死亡或转院;\n",
    "# “9”表示未作区分的情况;\n",
    "# “0”表示小于 17 岁组\n",
    "# 数据分组只能将ADRG细分，具体分组对应末尾是1,3,5的那一种还需专家审核\n",
    "# 或者用MCC/CC+age等写个人工规则判，所以先不直接命名为135,790可以按数据写规则判\n",
    "# 此处只处理9,0做个样子,其余用'ABCDEFGHIJKLMNOPQRSTUVWXYZ'代替（26个符号分组一般够用了）\n",
    "# 目前只模拟了二叉树\n",
    "\n",
    "class train_drg_tree:\n",
    "    def __init__(self):\n",
    "        self.namestr=list('ABCDEFGHIJKLMNOPQRSTUVWXYZ')\n",
    "        \n",
    "    @staticmethod\n",
    "    def calcCv(data_set):\n",
    "        if len(data_set)==0:\n",
    "            return 0\n",
    "        avg=data_set[:,-1].mean()\n",
    "        std=data_set[:,-1].std()\n",
    "        cv=std/avg\n",
    "        return cv\n",
    "    \n",
    "    @staticmethod\n",
    "    def splitDataSet(data_set, axis, value):\n",
    "        tmp_l=data_set[data_set[:,axis]<=value]\n",
    "        tmp_r=data_set[data_set[:,axis]>value]\n",
    "        ret_l=np.concatenate((tmp_l[:,:axis],tmp_l[:,axis+1:]),axis=1)\n",
    "        ret_r=np.concatenate((tmp_r[:,:axis],tmp_r[:,axis+1:]),axis=1)\n",
    "        return ret_l,ret_r\n",
    "\n",
    "    @staticmethod\n",
    "    def chooseBestFeatureToSplit(data_set):\n",
    "        numFeatures = len(data_set[0]) - 1   \n",
    "        baseCv = calcCv(data_set)\n",
    "        # 此处RIV只是借用了概念，实际RIV按国家文档为比值\n",
    "        bestRIV = 0.0; bestFeature = -1\n",
    "        # 同时记录第i个Feature的最佳value\n",
    "        bestFeaValue={}\n",
    "        for i in range(numFeatures):        \n",
    "            featList = data_set[:,i]\n",
    "            uniqueVals = list(set(featList))\n",
    "            newCv = 99\n",
    "            bestFeaValue[i]=uniqueVals[0]\n",
    "            for value in uniqueVals:\n",
    "                subl,subr = splitDataSet(data_set, i, value)\n",
    "                tmpCv=(len(subl)*calcCv(subl)+len(subr)*calcCv(subr))/len(data_set)\n",
    "                if tmpCv<newCv:\n",
    "                    newCv=tmpCv\n",
    "                    bestFeaValue[i]=value\n",
    "    #         print(newCv)\n",
    "            RIV = baseCv - newCv     \n",
    "            if (RIV > bestRIV):       \n",
    "                bestRIV = RIV         \n",
    "                bestFeature = i\n",
    "        return bestFeature,bestFeaValue.get(bestFeature,'NA')\n",
    "\n",
    "    def createTree(self,data_set,labels,tgtCv=1):\n",
    "        labels_= list(labels)\n",
    "\n",
    "        # Cv达标就能停了\n",
    "        if self.calcCv(data_set) < tgtCv:\n",
    "            return self.namestr.pop(0)\n",
    "\n",
    "        # 或者分到最后一个特征字段还是不行\n",
    "        if len(data_set[0]) == 1:\n",
    "            return self.namestr.pop(0)\n",
    "\n",
    "        bestFeat,bestFeaValue = self.chooseBestFeatureToSplit(data_set)\n",
    "\n",
    "        # 剩余特征无法进一步区分则停\n",
    "        if bestFeaValue=='NA':\n",
    "            return self.namestr.pop(0)\n",
    "\n",
    "        bestFeatLabel = labels_[bestFeat]\n",
    "        myTree = {bestFeatLabel:{}}\n",
    "        labels_.remove(bestFeatLabel)\n",
    "\n",
    "        subl,subr = self.splitDataSet(data_set, bestFeat, bestFeaValue)\n",
    "\n",
    "#         print(labels_)\n",
    "#         print('\\n')\n",
    "#         print(self.namestr)\n",
    "\n",
    "        myTree[bestFeatLabel]['<='+str(bestFeaValue)] = self.createTree(subl,labels_,tgtCv)\n",
    "        myTree[bestFeatLabel]['>'+str(bestFeaValue)] = self.createTree(subr,labels_,tgtCv)\n",
    "\n",
    "        return myTree"
   ]
  },
  {
   "cell_type": "code",
   "execution_count": 453,
   "metadata": {},
   "outputs": [
    {
     "data": {
      "text/plain": [
       "{'age': {'<=60': 'A', '>60': {'gender': {'<=0': 'B', '>0': 'C'}}}}"
      ]
     },
     "execution_count": 453,
     "metadata": {},
     "output_type": "execute_result"
    }
   ],
   "source": [
    "# Test\n",
    "labels=['gender','age','has_mcc','fee']\n",
    "\n",
    "test_data_set=case_data.loc[case_data.adrg_r=='XT3',labels].copy()\n",
    "test_data_set=test_data_set.values\n",
    "# 造数据stdev编小了，现在只能调小目标Cv了\n",
    "myTree = train_drg_tree().createTree(data_set,labels,tgtCv=0.02)\n",
    "myTree"
   ]
  },
  {
   "cell_type": "code",
   "execution_count": 460,
   "metadata": {},
   "outputs": [],
   "source": [
    "# 批量训练得到ADRG->DRG分组规则\n",
    "drg_rule_models=case_data.groupby('adrg_r')[['gender','age','has_mcc','fee']].apply(lambda x:train_drg_tree().createTree(x.values,labels,tgtCv=0.02))"
   ]
  },
  {
   "cell_type": "code",
   "execution_count": 468,
   "metadata": {},
   "outputs": [
    {
     "data": {
      "text/plain": [
       "adrg_r\n",
       "XT2                                                    A\n",
       "XT3    {'age': {'<=60': 'A', '>60': {'gender': {'<=0'...\n",
       "YC1                   {'age': {'<=28': 'A', '>28': 'B'}}\n",
       "YR1                                                    A\n",
       "YR2                                                    A\n",
       "dtype: object"
      ]
     },
     "execution_count": 468,
     "metadata": {},
     "output_type": "execute_result"
    }
   ],
   "source": [
    "drg_rule_models.tail()"
   ]
  },
  {
   "cell_type": "code",
   "execution_count": 467,
   "metadata": {},
   "outputs": [],
   "source": [
    "# store model\n",
    "import pickle\n",
    "with open('./group_models/dummy_data_model.pickle','wb') as f:\n",
    "    pickle.dump(drg_rule_models,f)"
   ]
  },
  {
   "cell_type": "code",
   "execution_count": 496,
   "metadata": {},
   "outputs": [],
   "source": [
    "drg_rule_models=drg_rule_models.to_dict()"
   ]
  },
  {
   "cell_type": "markdown",
   "metadata": {},
   "source": [
    "##### 1.4.3. Apply DRG grouper"
   ]
  },
  {
   "cell_type": "code",
   "execution_count": 495,
   "metadata": {},
   "outputs": [
    {
     "data": {
      "text/plain": [
       "'C'"
      ]
     },
     "execution_count": 495,
     "metadata": {},
     "output_type": "execute_result"
    }
   ],
   "source": [
    "import ast #for safety eval\n",
    "def drg_rule_apply(rule_model, featLabels, testVec):\n",
    "    if isinstance(rule_model, str):\n",
    "        return rule_model\n",
    "\n",
    "    fea1 = list(rule_model)[0]\n",
    "    featIndex = featLabels.index(fea1)\n",
    "    data_value= testVec[featIndex]\n",
    "    \n",
    "    thres=list(rule_model[fea1])[0].split('<=')[1]\n",
    "    \n",
    "    if testVec[featIndex]<=ast.literal_eval(thres):\n",
    "        next_rule=rule_model[fea1]['<='+thres]\n",
    "    else:\n",
    "        next_rule=rule_model[fea1]['>'+thres]\n",
    "    \n",
    "    result=drg_rule_apply(next_rule, featLabels, testVec)\n",
    "    \n",
    "    return result\n",
    "\n",
    "# Test\n",
    "drg_rule_apply(myTree,['gender','age','has_mcc'],[1, 70, True])"
   ]
  },
  {
   "cell_type": "code",
   "execution_count": 514,
   "metadata": {},
   "outputs": [],
   "source": [
    "# 批量执行ADRG->DRG分组规则\n",
    "case_data['drg_r']=case_data[['adrg_r','gender','age','has_mcc']].apply(\\\n",
    "                                                lambda x:drg_rule_apply(drg_rule_models[x[0]],\\\n",
    "                                                ['gender','age','has_mcc'],\\\n",
    "                                               x[1:]),axis=1)"
   ]
  },
  {
   "cell_type": "code",
   "execution_count": 520,
   "metadata": {},
   "outputs": [],
   "source": [
    "case_data['drg_r']=case_data[['adrg_r','drg_r']].apply(lambda x:'_'.join(list(x)),axis=1)"
   ]
  },
  {
   "cell_type": "code",
   "execution_count": 525,
   "metadata": {},
   "outputs": [],
   "source": [
    "case_data['drg_fee']=case_data.groupby('drg_r')['fee'].transform('mean')"
   ]
  },
  {
   "cell_type": "code",
   "execution_count": 534,
   "metadata": {},
   "outputs": [],
   "source": [
    "# Extra experiments\n",
    "# 也可以通过drg_fee去排初步531轻中重"
   ]
  },
  {
   "cell_type": "code",
   "execution_count": 563,
   "metadata": {},
   "outputs": [],
   "source": [
    "drg_rank=case_data.groupby(['adrg_r','drg_r'],as_index=False)['fee'].mean()\n",
    "drg_rank['rank']=drg_rank.groupby('adrg_r').rank()\n",
    "drg_rank_dict={drg_r:rank for drg_r,rank in zip(drg_rank.drg_r,drg_rank['rank'])}"
   ]
  },
  {
   "cell_type": "code",
   "execution_count": 569,
   "metadata": {},
   "outputs": [],
   "source": [
    "case_data['drg_rank']=case_data['drg_r'].apply(lambda x:drg_rank_dict[x])"
   ]
  },
  {
   "cell_type": "code",
   "execution_count": 572,
   "metadata": {},
   "outputs": [
    {
     "data": {
      "text/html": [
       "<div>\n",
       "<style scoped>\n",
       "    .dataframe tbody tr th:only-of-type {\n",
       "        vertical-align: middle;\n",
       "    }\n",
       "\n",
       "    .dataframe tbody tr th {\n",
       "        vertical-align: top;\n",
       "    }\n",
       "\n",
       "    .dataframe thead th {\n",
       "        text-align: right;\n",
       "    }\n",
       "</style>\n",
       "<table border=\"1\" class=\"dataframe\">\n",
       "  <thead>\n",
       "    <tr style=\"text-align: right;\">\n",
       "      <th></th>\n",
       "      <th>case_id</th>\n",
       "      <th>gender</th>\n",
       "      <th>age</th>\n",
       "      <th>diag_p</th>\n",
       "      <th>diag_oth</th>\n",
       "      <th>oper_p</th>\n",
       "      <th>fee</th>\n",
       "      <th>mdci</th>\n",
       "      <th>adrgi</th>\n",
       "      <th>drgii</th>\n",
       "      <th>mdc_r</th>\n",
       "      <th>adrg_r</th>\n",
       "      <th>error_case</th>\n",
       "      <th>has_mcc</th>\n",
       "      <th>has_cc</th>\n",
       "      <th>drg_r</th>\n",
       "      <th>drg_fee</th>\n",
       "      <th>drg_rank</th>\n",
       "    </tr>\n",
       "  </thead>\n",
       "  <tbody>\n",
       "    <tr>\n",
       "      <th>9994</th>\n",
       "      <td>BzKT8</td>\n",
       "      <td>0</td>\n",
       "      <td>33</td>\n",
       "      <td>C60.900</td>\n",
       "      <td>E83.003+F02.8*</td>\n",
       "      <td>60.6900x002</td>\n",
       "      <td>300.600400</td>\n",
       "      <td>MDCM</td>\n",
       "      <td>MA1</td>\n",
       "      <td>MA19</td>\n",
       "      <td>MDCM</td>\n",
       "      <td>MR1</td>\n",
       "      <td>False</td>\n",
       "      <td>True</td>\n",
       "      <td>False</td>\n",
       "      <td>MR1_A</td>\n",
       "      <td>308.809161</td>\n",
       "      <td>3.0</td>\n",
       "    </tr>\n",
       "    <tr>\n",
       "      <th>9995</th>\n",
       "      <td>WjqQ8</td>\n",
       "      <td>0</td>\n",
       "      <td>56</td>\n",
       "      <td>D15.200x001</td>\n",
       "      <td>A41.502</td>\n",
       "      <td>NaN</td>\n",
       "      <td>820.916885</td>\n",
       "      <td>MDCR</td>\n",
       "      <td>RT2</td>\n",
       "      <td>RT25</td>\n",
       "      <td>MDCR</td>\n",
       "      <td>RT2</td>\n",
       "      <td>False</td>\n",
       "      <td>True</td>\n",
       "      <td>False</td>\n",
       "      <td>RT2_A</td>\n",
       "      <td>819.663718</td>\n",
       "      <td>1.0</td>\n",
       "    </tr>\n",
       "    <tr>\n",
       "      <th>9997</th>\n",
       "      <td>DMMRh</td>\n",
       "      <td>0</td>\n",
       "      <td>36</td>\n",
       "      <td>N76.000x003</td>\n",
       "      <td>I60.200x005</td>\n",
       "      <td>NaN</td>\n",
       "      <td>821.484993</td>\n",
       "      <td>MDCN</td>\n",
       "      <td>NS1</td>\n",
       "      <td>NS19</td>\n",
       "      <td>MDCN</td>\n",
       "      <td>NS1</td>\n",
       "      <td>False</td>\n",
       "      <td>True</td>\n",
       "      <td>False</td>\n",
       "      <td>NS1_A</td>\n",
       "      <td>824.328389</td>\n",
       "      <td>1.0</td>\n",
       "    </tr>\n",
       "    <tr>\n",
       "      <th>9998</th>\n",
       "      <td>dyB7T</td>\n",
       "      <td>0</td>\n",
       "      <td>27</td>\n",
       "      <td>B22.000x001</td>\n",
       "      <td>I60.200x002</td>\n",
       "      <td>NaN</td>\n",
       "      <td>992.849339</td>\n",
       "      <td>MDCY</td>\n",
       "      <td>YR1</td>\n",
       "      <td>YR15</td>\n",
       "      <td>MDCY</td>\n",
       "      <td>YR1</td>\n",
       "      <td>False</td>\n",
       "      <td>True</td>\n",
       "      <td>False</td>\n",
       "      <td>YR1_A</td>\n",
       "      <td>994.324898</td>\n",
       "      <td>1.0</td>\n",
       "    </tr>\n",
       "    <tr>\n",
       "      <th>9999</th>\n",
       "      <td>eMDS4</td>\n",
       "      <td>1</td>\n",
       "      <td>52</td>\n",
       "      <td>O04.801</td>\n",
       "      <td>C15.200</td>\n",
       "      <td>NaN</td>\n",
       "      <td>637.617437</td>\n",
       "      <td>MDCO</td>\n",
       "      <td>OS2</td>\n",
       "      <td>OS29</td>\n",
       "      <td>MDCO</td>\n",
       "      <td>OS2</td>\n",
       "      <td>False</td>\n",
       "      <td>True</td>\n",
       "      <td>False</td>\n",
       "      <td>OS2_A</td>\n",
       "      <td>635.084427</td>\n",
       "      <td>1.0</td>\n",
       "    </tr>\n",
       "  </tbody>\n",
       "</table>\n",
       "</div>"
      ],
      "text/plain": [
       "     case_id  gender  age       diag_p        diag_oth       oper_p  \\\n",
       "9994   BzKT8       0   33      C60.900  E83.003+F02.8*  60.6900x002   \n",
       "9995   WjqQ8       0   56  D15.200x001         A41.502          NaN   \n",
       "9997   DMMRh       0   36  N76.000x003     I60.200x005          NaN   \n",
       "9998   dyB7T       0   27  B22.000x001     I60.200x002          NaN   \n",
       "9999   eMDS4       1   52      O04.801         C15.200          NaN   \n",
       "\n",
       "             fee  mdci adrgi drgii mdc_r adrg_r  error_case  has_mcc  has_cc  \\\n",
       "9994  300.600400  MDCM   MA1  MA19  MDCM    MR1       False     True   False   \n",
       "9995  820.916885  MDCR   RT2  RT25  MDCR    RT2       False     True   False   \n",
       "9997  821.484993  MDCN   NS1  NS19  MDCN    NS1       False     True   False   \n",
       "9998  992.849339  MDCY   YR1  YR15  MDCY    YR1       False     True   False   \n",
       "9999  637.617437  MDCO   OS2  OS29  MDCO    OS2       False     True   False   \n",
       "\n",
       "      drg_r     drg_fee  drg_rank  \n",
       "9994  MR1_A  308.809161       3.0  \n",
       "9995  RT2_A  819.663718       1.0  \n",
       "9997  NS1_A  824.328389       1.0  \n",
       "9998  YR1_A  994.324898       1.0  \n",
       "9999  OS2_A  635.084427       1.0  "
      ]
     },
     "execution_count": 572,
     "metadata": {},
     "output_type": "execute_result"
    }
   ],
   "source": [
    "case_data.tail()"
   ]
  },
  {
   "cell_type": "code",
   "execution_count": 573,
   "metadata": {},
   "outputs": [],
   "source": [
    "case_data.to_csv('./dummy_data/grouped_data.csv',index=False)\n",
    "# 后续把rank 123 映射为 135，及唯一分组标记为9，年龄小于17标记为0后重新命名DRG组名称：略"
   ]
  },
  {
   "cell_type": "markdown",
   "metadata": {},
   "source": [
    "#### 1.5. Group Results QC/Evaluate"
   ]
  },
  {
   "cell_type": "code",
   "execution_count": null,
   "metadata": {},
   "outputs": [],
   "source": [
    "# 0.6. 判断细分 DRG 组，需同时满足以下条件:\n",
    "# 略"
   ]
  },
  {
   "cell_type": "code",
   "execution_count": null,
   "metadata": {},
   "outputs": [],
   "source": [
    "# 分组效能评价RIV等，略"
   ]
  },
  {
   "cell_type": "markdown",
   "metadata": {},
   "source": [
    "### 2. Payment Method Design(RW Rate&Rules)"
   ]
  },
  {
   "cell_type": "code",
   "execution_count": 575,
   "metadata": {},
   "outputs": [],
   "source": [
    "avg_case_fee=case_data.fee.mean()\n",
    "case_data['RW']=case_data['drg_fee']/avg_case_fee"
   ]
  },
  {
   "cell_type": "code",
   "execution_count": 576,
   "metadata": {},
   "outputs": [
    {
     "data": {
      "text/plain": [
       "Index(['case_id', 'gender', 'age', 'diag_p', 'diag_oth', 'oper_p', 'fee',\n",
       "       'mdci', 'adrgi', 'drgii', 'mdc_r', 'adrg_r', 'error_case', 'has_mcc',\n",
       "       'has_cc', 'drg_r', 'drg_fee', 'drg_rank', 'RW'],\n",
       "      dtype='object')"
      ]
     },
     "execution_count": 576,
     "metadata": {},
     "output_type": "execute_result"
    }
   ],
   "source": [
    "case_data.columns"
   ]
  },
  {
   "cell_type": "code",
   "execution_count": 578,
   "metadata": {},
   "outputs": [
    {
     "data": {
      "text/html": [
       "<div>\n",
       "<style scoped>\n",
       "    .dataframe tbody tr th:only-of-type {\n",
       "        vertical-align: middle;\n",
       "    }\n",
       "\n",
       "    .dataframe tbody tr th {\n",
       "        vertical-align: top;\n",
       "    }\n",
       "\n",
       "    .dataframe thead th {\n",
       "        text-align: right;\n",
       "    }\n",
       "</style>\n",
       "<table border=\"1\" class=\"dataframe\">\n",
       "  <thead>\n",
       "    <tr style=\"text-align: right;\">\n",
       "      <th></th>\n",
       "      <th>case_id</th>\n",
       "      <th>gender</th>\n",
       "      <th>age</th>\n",
       "      <th>diag_p</th>\n",
       "      <th>diag_oth</th>\n",
       "      <th>oper_p</th>\n",
       "      <th>fee</th>\n",
       "      <th>drg_r</th>\n",
       "      <th>drg_fee</th>\n",
       "      <th>drg_rank</th>\n",
       "      <th>RW</th>\n",
       "    </tr>\n",
       "  </thead>\n",
       "  <tbody>\n",
       "    <tr>\n",
       "      <th>4</th>\n",
       "      <td>ectQx</td>\n",
       "      <td>0</td>\n",
       "      <td>78</td>\n",
       "      <td>D37.019</td>\n",
       "      <td>T82.501</td>\n",
       "      <td>NaN</td>\n",
       "      <td>389.045262</td>\n",
       "      <td>DR1_A</td>\n",
       "      <td>390.064114</td>\n",
       "      <td>1.0</td>\n",
       "      <td>0.798311</td>\n",
       "    </tr>\n",
       "    <tr>\n",
       "      <th>5</th>\n",
       "      <td>URvIm</td>\n",
       "      <td>0</td>\n",
       "      <td>39</td>\n",
       "      <td>R82.500x004</td>\n",
       "      <td>T91.205</td>\n",
       "      <td>NaN</td>\n",
       "      <td>621.433309</td>\n",
       "      <td>LW1_A</td>\n",
       "      <td>618.981597</td>\n",
       "      <td>1.0</td>\n",
       "      <td>1.266817</td>\n",
       "    </tr>\n",
       "    <tr>\n",
       "      <th>7</th>\n",
       "      <td>KbqpW</td>\n",
       "      <td>0</td>\n",
       "      <td>73</td>\n",
       "      <td>N71.001</td>\n",
       "      <td>I72.400x310</td>\n",
       "      <td>NaN</td>\n",
       "      <td>822.699113</td>\n",
       "      <td>NS1_A</td>\n",
       "      <td>824.328389</td>\n",
       "      <td>1.0</td>\n",
       "      <td>1.687083</td>\n",
       "    </tr>\n",
       "    <tr>\n",
       "      <th>9</th>\n",
       "      <td>ZSFiM</td>\n",
       "      <td>0</td>\n",
       "      <td>75</td>\n",
       "      <td>O00.804</td>\n",
       "      <td>D69.500</td>\n",
       "      <td>65.0102</td>\n",
       "      <td>630.643490</td>\n",
       "      <td>OT1_A</td>\n",
       "      <td>628.042127</td>\n",
       "      <td>1.0</td>\n",
       "      <td>1.285361</td>\n",
       "    </tr>\n",
       "    <tr>\n",
       "      <th>11</th>\n",
       "      <td>LkpPL</td>\n",
       "      <td>0</td>\n",
       "      <td>40</td>\n",
       "      <td>R04.800x002</td>\n",
       "      <td>I80.804</td>\n",
       "      <td>NaN</td>\n",
       "      <td>363.638841</td>\n",
       "      <td>EV1_A</td>\n",
       "      <td>363.729547</td>\n",
       "      <td>1.0</td>\n",
       "      <td>0.744414</td>\n",
       "    </tr>\n",
       "  </tbody>\n",
       "</table>\n",
       "</div>"
      ],
      "text/plain": [
       "   case_id  gender  age       diag_p     diag_oth   oper_p         fee  drg_r  \\\n",
       "4    ectQx       0   78      D37.019      T82.501      NaN  389.045262  DR1_A   \n",
       "5    URvIm       0   39  R82.500x004      T91.205      NaN  621.433309  LW1_A   \n",
       "7    KbqpW       0   73      N71.001  I72.400x310      NaN  822.699113  NS1_A   \n",
       "9    ZSFiM       0   75      O00.804      D69.500  65.0102  630.643490  OT1_A   \n",
       "11   LkpPL       0   40  R04.800x002      I80.804      NaN  363.638841  EV1_A   \n",
       "\n",
       "       drg_fee  drg_rank        RW  \n",
       "4   390.064114       1.0  0.798311  \n",
       "5   618.981597       1.0  1.266817  \n",
       "7   824.328389       1.0  1.687083  \n",
       "9   628.042127       1.0  1.285361  \n",
       "11  363.729547       1.0  0.744414  "
      ]
     },
     "execution_count": 578,
     "metadata": {},
     "output_type": "execute_result"
    }
   ],
   "source": [
    "case_data[['case_id', 'gender', 'age', 'diag_p',\\\n",
    "           'diag_oth', 'oper_p', 'fee',\\\n",
    "         'drg_r', 'drg_fee', 'drg_rank', 'RW']].head()\n",
    "# 其他各种绩效玩法，略"
   ]
  },
  {
   "cell_type": "code",
   "execution_count": null,
   "metadata": {},
   "outputs": [],
   "source": []
  }
 ],
 "metadata": {
  "kernelspec": {
   "display_name": "Python 3",
   "language": "python",
   "name": "python3"
  },
  "language_info": {
   "codemirror_mode": {
    "name": "ipython",
    "version": 3
   },
   "file_extension": ".py",
   "mimetype": "text/x-python",
   "name": "python",
   "nbconvert_exporter": "python",
   "pygments_lexer": "ipython3",
   "version": "3.8.3"
  }
 },
 "nbformat": 4,
 "nbformat_minor": 4
}
