{
 "cells": [
  {
   "cell_type": "markdown",
   "metadata": {},
   "source": [
    "#### DRG 基本概念\n",
    "**疾病诊断相关组(Diagnosis Related Groups，DRG)**是用于衡量 医疗服务质量效率以及进行医保支付的一个重要工具。DRG 实质上 是一种病例组合分类方案，即根据年龄、疾病诊断、合并症、并发症、 治疗方式、病症严重程度及转归和资源消耗等因素，将患者分入若干 诊断组进行管理的体系。"
   ]
  },
  {
   "cell_type": "code",
   "execution_count": null,
   "metadata": {},
   "outputs": [],
   "source": []
  },
  {
   "cell_type": "markdown",
   "metadata": {},
   "source": [
    "#### DRG 付费适用范围\n",
    "##### 1.3.1 适用范围\n",
    "```\n",
    "DRG 是以划分医疗服务产出为目标(同组病例医疗服务产出的\n",
    "期望相同)，其本质上是一套“管理工具”，只有那些诊断和治疗方式 对病例的资源消耗和治疗结果影响显著的病例，才适合使用 DRG 作 为风险调整工具，较适用于急性住院病例(Acute inpatients)。\n",
    "```\n",
    "##### 1.3.2 不适用范围\n",
    "```\n",
    "不适用于以下情况，应作“除外”处理:1门诊病例;2康复病例; 3需要长期住院的病例;4某些诊断相同，治疗方式相同，但资源消 耗和治疗结果变异巨大病例(如精神类疾病)。\n",
    "```\n"
   ]
  },
  {
   "cell_type": "code",
   "execution_count": null,
   "metadata": {},
   "outputs": [],
   "source": []
  }
 ],
 "metadata": {
  "kernelspec": {
   "display_name": "Python 3",
   "language": "python",
   "name": "python3"
  },
  "language_info": {
   "codemirror_mode": {
    "name": "ipython",
    "version": 3
   },
   "file_extension": ".py",
   "mimetype": "text/x-python",
   "name": "python",
   "nbconvert_exporter": "python",
   "pygments_lexer": "ipython3",
   "version": "3.7.6"
  }
 },
 "nbformat": 4,
 "nbformat_minor": 4
}
