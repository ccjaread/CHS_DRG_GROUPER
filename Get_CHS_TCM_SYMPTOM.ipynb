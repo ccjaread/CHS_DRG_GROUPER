{
 "cells": [
  {
   "cell_type": "code",
   "execution_count": 1,
   "metadata": {},
   "outputs": [],
   "source": [
    "import requests\n",
    "from bs4 import BeautifulSoup\n",
    "import pandas as pd"
   ]
  },
  {
   "cell_type": "code",
   "execution_count": 2,
   "metadata": {},
   "outputs": [],
   "source": [
    "headers={\"User-Agent\": \"Mozilla/5.0 (Macintosh; Intel Mac OS X 10_14_2) AppleWebKit/605.1.15 (KHTML, like Gecko) Version/12.0.2 Safari/605.1.15\"\n",
    "        }"
   ]
  },
  {
   "cell_type": "code",
   "execution_count": 7,
   "metadata": {},
   "outputs": [],
   "source": [
    "icd_chap_url=u'http://code.nhsa.gov.cn:8000/jbzd/public/toStdTcmTreeList.html?partcode=Z'\n",
    "icd_chapter=requests.get(icd_chap_url,headers=headers)"
   ]
  },
  {
   "cell_type": "code",
   "execution_count": 8,
   "metadata": {},
   "outputs": [],
   "source": [
    "icd_chapter=icd_chapter.json()"
   ]
  },
  {
   "cell_type": "code",
   "execution_count": 5,
   "metadata": {},
   "outputs": [
    {
     "data": {
      "text/plain": [
       "'36d1e171-7930-11e9-9611-8cec4bd010f3'"
      ]
     },
     "execution_count": 5,
     "metadata": {},
     "output_type": "execute_result"
    }
   ],
   "source": [
    "icd_chapter[0]['tcmId']"
   ]
  },
  {
   "cell_type": "code",
   "execution_count": 6,
   "metadata": {},
   "outputs": [],
   "source": [
    "icd_chapter=pd.DataFrame(icd_chapter)\n",
    "icd_chapter.to_csv('./CHS_TCM_SYMPTOM_CHAPTER.csv')"
   ]
  },
  {
   "cell_type": "code",
   "execution_count": 9,
   "metadata": {},
   "outputs": [],
   "source": [
    "icd_detail_url_base=u'http://code.nhsa.gov.cn:8000/jbzd/public/dataTcmSerachDetail.html?tcmId='"
   ]
  },
  {
   "cell_type": "code",
   "execution_count": 10,
   "metadata": {},
   "outputs": [],
   "source": [
    "icd_detail_url_full=icd_detail_url_base+icd_chapter[0]['tcmId']"
   ]
  },
  {
   "cell_type": "code",
   "execution_count": 11,
   "metadata": {},
   "outputs": [
    {
     "data": {
      "text/plain": [
       "'http://code.nhsa.gov.cn:8000/jbzd/public/dataTcmSerachDetail.html?tcmId=36d1e171-7930-11e9-9611-8cec4bd010f3'"
      ]
     },
     "execution_count": 11,
     "metadata": {},
     "output_type": "execute_result"
    }
   ],
   "source": [
    "icd_detail_url_full"
   ]
  },
  {
   "cell_type": "code",
   "execution_count": 12,
   "metadata": {},
   "outputs": [],
   "source": [
    "icd_detail=requests.get(icd_detail_url_full,headers=headers)"
   ]
  },
  {
   "cell_type": "code",
   "execution_count": 13,
   "metadata": {},
   "outputs": [],
   "source": [
    "if icd_detail.status_code == 200:\n",
    "    info = {}\n",
    "    soup = BeautifulSoup(icd_detail.text)\n",
    "    icd_code_lst=[d.text.strip() for d in soup.find_all('a')]\n",
    "    icd_name_lst=[d.text.strip() for d in soup.find_all('span')]\n"
   ]
  },
  {
   "cell_type": "code",
   "execution_count": null,
   "metadata": {},
   "outputs": [],
   "source": []
  },
  {
   "cell_type": "code",
   "execution_count": null,
   "metadata": {},
   "outputs": [],
   "source": []
  },
  {
   "cell_type": "code",
   "execution_count": 16,
   "metadata": {},
   "outputs": [],
   "source": [
    "CHS_ICD10=[]\n",
    "for i in range(len(icd_chapter)):\n",
    "    icd_detail_url_full=icd_detail_url_base+icd_chapter[i]['tcmId']\n",
    "    icd_detail=requests.get(icd_detail_url_full,headers=headers)\n",
    "    if icd_detail.status_code == 200:\n",
    "        info = {}\n",
    "        soup = BeautifulSoup(icd_detail.text)\n",
    "        icd_code_lst=[d.text.strip() for d in soup.find_all('a')]\n",
    "        icd_name_lst=[d.text.strip() for d in soup.find_all('span')]\n",
    "        df_icd=pd.DataFrame({'tcm_code':icd_code_lst,'tcm_name':icd_name_lst})\n",
    "        CHS_ICD10.append(df_icd)\n",
    "    else:\n",
    "        print(icd_detail_url_full)"
   ]
  },
  {
   "cell_type": "code",
   "execution_count": 17,
   "metadata": {},
   "outputs": [],
   "source": [
    "CHS_ICD10_Table=pd.concat(CHS_ICD10,axis=0,ignore_index=True)"
   ]
  },
  {
   "cell_type": "code",
   "execution_count": 18,
   "metadata": {},
   "outputs": [
    {
     "data": {
      "text/html": [
       "<div>\n",
       "<style scoped>\n",
       "    .dataframe tbody tr th:only-of-type {\n",
       "        vertical-align: middle;\n",
       "    }\n",
       "\n",
       "    .dataframe tbody tr th {\n",
       "        vertical-align: top;\n",
       "    }\n",
       "\n",
       "    .dataframe thead th {\n",
       "        text-align: right;\n",
       "    }\n",
       "</style>\n",
       "<table border=\"1\" class=\"dataframe\">\n",
       "  <thead>\n",
       "    <tr style=\"text-align: right;\">\n",
       "      <th></th>\n",
       "      <th>tcm_code</th>\n",
       "      <th>tcm_name</th>\n",
       "    </tr>\n",
       "  </thead>\n",
       "  <tbody>\n",
       "    <tr>\n",
       "      <th>0</th>\n",
       "      <td>ZBF</td>\n",
       "      <td>风证类</td>\n",
       "    </tr>\n",
       "    <tr>\n",
       "      <th>1</th>\n",
       "      <td>ZBF000</td>\n",
       "      <td>风邪证</td>\n",
       "    </tr>\n",
       "    <tr>\n",
       "      <th>2</th>\n",
       "      <td>ZBF001</td>\n",
       "      <td>风邪偏盛证</td>\n",
       "    </tr>\n",
       "    <tr>\n",
       "      <th>3</th>\n",
       "      <td>ZBF010</td>\n",
       "      <td>风邪袭表证</td>\n",
       "    </tr>\n",
       "    <tr>\n",
       "      <th>4</th>\n",
       "      <td>ZBF011</td>\n",
       "      <td>风邪外袭证</td>\n",
       "    </tr>\n",
       "    <tr>\n",
       "      <th>5</th>\n",
       "      <td>ZBF012</td>\n",
       "      <td>风邪外袭，经气痞塞证</td>\n",
       "    </tr>\n",
       "    <tr>\n",
       "      <th>6</th>\n",
       "      <td>ZBF013</td>\n",
       "      <td>风邪侵袭证</td>\n",
       "    </tr>\n",
       "    <tr>\n",
       "      <th>7</th>\n",
       "      <td>ZBF020</td>\n",
       "      <td>风邪袭络证</td>\n",
       "    </tr>\n",
       "    <tr>\n",
       "      <th>8</th>\n",
       "      <td>ZBF030</td>\n",
       "      <td>风邪阻络证</td>\n",
       "    </tr>\n",
       "    <tr>\n",
       "      <th>9</th>\n",
       "      <td>ZBF031</td>\n",
       "      <td>卫外失固，风邪中络证</td>\n",
       "    </tr>\n",
       "    <tr>\n",
       "      <th>10</th>\n",
       "      <td>ZBF040</td>\n",
       "      <td>风邪犯肺证</td>\n",
       "    </tr>\n",
       "    <tr>\n",
       "      <th>11</th>\n",
       "      <td>ZBF050</td>\n",
       "      <td>风邪犯耳证</td>\n",
       "    </tr>\n",
       "    <tr>\n",
       "      <th>12</th>\n",
       "      <td>ZBF060</td>\n",
       "      <td>风邪热毒证</td>\n",
       "    </tr>\n",
       "    <tr>\n",
       "      <th>13</th>\n",
       "      <td>ZBFD00</td>\n",
       "      <td>风毒证</td>\n",
       "    </tr>\n",
       "    <tr>\n",
       "      <th>14</th>\n",
       "      <td>ZBFD10</td>\n",
       "      <td>风毒入里证</td>\n",
       "    </tr>\n",
       "    <tr>\n",
       "      <th>15</th>\n",
       "      <td>ZBFD20</td>\n",
       "      <td>风毒在表证</td>\n",
       "    </tr>\n",
       "    <tr>\n",
       "      <th>16</th>\n",
       "      <td>ZBFH00</td>\n",
       "      <td>风寒证</td>\n",
       "    </tr>\n",
       "    <tr>\n",
       "      <th>17</th>\n",
       "      <td>ZBFH10</td>\n",
       "      <td>风寒袭表证</td>\n",
       "    </tr>\n",
       "    <tr>\n",
       "      <th>18</th>\n",
       "      <td>ZBFH11</td>\n",
       "      <td>风寒外袭证</td>\n",
       "    </tr>\n",
       "    <tr>\n",
       "      <th>19</th>\n",
       "      <td>ZBFH20</td>\n",
       "      <td>风寒束表证</td>\n",
       "    </tr>\n",
       "  </tbody>\n",
       "</table>\n",
       "</div>"
      ],
      "text/plain": [
       "   tcm_code    tcm_name\n",
       "0       ZBF         风证类\n",
       "1    ZBF000         风邪证\n",
       "2    ZBF001       风邪偏盛证\n",
       "3    ZBF010       风邪袭表证\n",
       "4    ZBF011       风邪外袭证\n",
       "5    ZBF012  风邪外袭，经气痞塞证\n",
       "6    ZBF013       风邪侵袭证\n",
       "7    ZBF020       风邪袭络证\n",
       "8    ZBF030       风邪阻络证\n",
       "9    ZBF031  卫外失固，风邪中络证\n",
       "10   ZBF040       风邪犯肺证\n",
       "11   ZBF050       风邪犯耳证\n",
       "12   ZBF060       风邪热毒证\n",
       "13   ZBFD00         风毒证\n",
       "14   ZBFD10       风毒入里证\n",
       "15   ZBFD20       风毒在表证\n",
       "16   ZBFH00         风寒证\n",
       "17   ZBFH10       风寒袭表证\n",
       "18   ZBFH11       风寒外袭证\n",
       "19   ZBFH20       风寒束表证"
      ]
     },
     "execution_count": 18,
     "metadata": {},
     "output_type": "execute_result"
    }
   ],
   "source": [
    "CHS_ICD10_Table.head(20)"
   ]
  },
  {
   "cell_type": "code",
   "execution_count": 19,
   "metadata": {},
   "outputs": [
    {
     "data": {
      "text/plain": [
       "3284"
      ]
     },
     "execution_count": 19,
     "metadata": {},
     "output_type": "execute_result"
    }
   ],
   "source": [
    "len(CHS_ICD10_Table)"
   ]
  },
  {
   "cell_type": "code",
   "execution_count": 20,
   "metadata": {},
   "outputs": [],
   "source": [
    "CHS_ICD10_Table.to_csv('./LOOKUP_TABLES/CHS_TCM_SYMPTOM.csv',encoding='utf-8',index=False)"
   ]
  },
  {
   "cell_type": "code",
   "execution_count": null,
   "metadata": {},
   "outputs": [],
   "source": []
  }
 ],
 "metadata": {
  "kernelspec": {
   "display_name": "Python 3",
   "language": "python",
   "name": "python3"
  },
  "language_info": {
   "codemirror_mode": {
    "name": "ipython",
    "version": 3
   },
   "file_extension": ".py",
   "mimetype": "text/x-python",
   "name": "python",
   "nbconvert_exporter": "python",
   "pygments_lexer": "ipython3",
   "version": "3.7.6"
  }
 },
 "nbformat": 4,
 "nbformat_minor": 4
}
