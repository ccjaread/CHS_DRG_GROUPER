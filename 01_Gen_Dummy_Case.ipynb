{
 "cells": [
  {
   "cell_type": "markdown",
   "metadata": {},
   "source": [
    "## 随机造一些数据用于DRG分组"
   ]
  },
  {
   "cell_type": "markdown",
   "metadata": {},
   "source": [
    "### 0. 预期目标数据形式 Target to generate(simplified)\n",
    "> infants not included<br>\n",
    "> fee (out of pocket,insurance,etc all in one) <br>\n",
    "> intubation/ICU cases not included\n",
    "> only one operation\n",
    "\n",
    "|caseid|gender|age|diag_p(rimary)|diag_oth(er)|oper_p(rimary)|oper_oth(er)|fee|hosp_id|mdci|adrgi|\n",
    "|----|----|----|----|----|----|----|----|----|----|----|\n",
    "|data|data|data|data|data|data|null|data|data|data|data|"
   ]
  },
  {
   "cell_type": "code",
   "execution_count": 1,
   "metadata": {},
   "outputs": [],
   "source": [
    "import numpy as np\n",
    "import pandas as pd"
   ]
  },
  {
   "cell_type": "markdown",
   "metadata": {},
   "source": [
    "### 1. 生成预期费用\n",
    "> 按MDC -> ADRG -> DRG -> Case 层级继承并变异思路虚构"
   ]
  },
  {
   "cell_type": "markdown",
   "metadata": {},
   "source": [
    "#### 1.1. 随机生成MDC费用"
   ]
  },
  {
   "cell_type": "code",
   "execution_count": 3,
   "metadata": {},
   "outputs": [],
   "source": [
    "mdc_lst=pd.read_csv('./LOOKUP_TABLES/1_MDC_LIST_GB2312.csv',encoding='gbk')"
   ]
  },
  {
   "cell_type": "code",
   "execution_count": 4,
   "metadata": {},
   "outputs": [
    {
     "data": {
      "text/html": [
       "<div>\n",
       "<style scoped>\n",
       "    .dataframe tbody tr th:only-of-type {\n",
       "        vertical-align: middle;\n",
       "    }\n",
       "\n",
       "    .dataframe tbody tr th {\n",
       "        vertical-align: top;\n",
       "    }\n",
       "\n",
       "    .dataframe thead th {\n",
       "        text-align: right;\n",
       "    }\n",
       "</style>\n",
       "<table border=\"1\" class=\"dataframe\">\n",
       "  <thead>\n",
       "    <tr style=\"text-align: right;\">\n",
       "      <th></th>\n",
       "      <th>NO</th>\n",
       "      <th>MDC_CODE</th>\n",
       "      <th>MDC_NAME</th>\n",
       "    </tr>\n",
       "  </thead>\n",
       "  <tbody>\n",
       "    <tr>\n",
       "      <th>0</th>\n",
       "      <td>1</td>\n",
       "      <td>MDCA</td>\n",
       "      <td>先期分组疾病及相关操作</td>\n",
       "    </tr>\n",
       "    <tr>\n",
       "      <th>1</th>\n",
       "      <td>2</td>\n",
       "      <td>MDCB</td>\n",
       "      <td>神经系统疾病及功能障碍</td>\n",
       "    </tr>\n",
       "    <tr>\n",
       "      <th>2</th>\n",
       "      <td>3</td>\n",
       "      <td>MDCC</td>\n",
       "      <td>眼疾病及功能障碍</td>\n",
       "    </tr>\n",
       "    <tr>\n",
       "      <th>3</th>\n",
       "      <td>4</td>\n",
       "      <td>MDCD</td>\n",
       "      <td>头颈、耳、鼻、口、咽疾病及功能障碍</td>\n",
       "    </tr>\n",
       "    <tr>\n",
       "      <th>4</th>\n",
       "      <td>5</td>\n",
       "      <td>MDCE</td>\n",
       "      <td>呼吸系统疾病及功能障碍</td>\n",
       "    </tr>\n",
       "  </tbody>\n",
       "</table>\n",
       "</div>"
      ],
      "text/plain": [
       "   NO MDC_CODE           MDC_NAME\n",
       "0   1     MDCA        先期分组疾病及相关操作\n",
       "1   2     MDCB        神经系统疾病及功能障碍\n",
       "2   3     MDCC           眼疾病及功能障碍\n",
       "3   4     MDCD  头颈、耳、鼻、口、咽疾病及功能障碍\n",
       "4   5     MDCE        呼吸系统疾病及功能障碍"
      ]
     },
     "execution_count": 4,
     "metadata": {},
     "output_type": "execute_result"
    }
   ],
   "source": [
    "mdc_lst.head()"
   ]
  },
  {
   "cell_type": "code",
   "execution_count": 5,
   "metadata": {},
   "outputs": [],
   "source": [
    "# gen mean fee of each mdc\n",
    "mdc_means=np.random.randint(100, high=1000, size=len(mdc_lst), dtype=int)\n",
    "mdc_devs=np.random.randint(1, high=20, size=len(mdc_lst), dtype=int)\n",
    "mdc_mean_dict={mdc:(m,dev) for mdc,m,dev in zip(mdc_lst.MDC_CODE,mdc_means,mdc_devs)}"
   ]
  },
  {
   "cell_type": "code",
   "execution_count": 11,
   "metadata": {},
   "outputs": [
    {
     "data": {
      "text/plain": [
       "(360, 15)"
      ]
     },
     "execution_count": 11,
     "metadata": {},
     "output_type": "execute_result"
    }
   ],
   "source": [
    "mdc_mean_dict['MDCA']"
   ]
  },
  {
   "cell_type": "code",
   "execution_count": 12,
   "metadata": {},
   "outputs": [],
   "source": [
    "#gen rand caseid\n",
    "def ranstr(num):\n",
    "    H = list('ABCDEFGHIJKLMNOPQRSTUVWXYZabcdefghijklmnopqrstuvwxyz0123456789')\n",
    "    salt = ''\n",
    "    for i in range(num):\n",
    "        salt += np.random.choice(H)\n",
    "    return salt"
   ]
  },
  {
   "cell_type": "markdown",
   "metadata": {},
   "source": [
    "> 修正了一些原lookup table的数据的错误\n",
    "```python\n",
    "icd_mdc_adrg=pd.read_csv(./LOOKUP_TABLES/2_MDC_to_ADRG_GB2312.csv',encoding='gbk')\n",
    "icd_mdc=icd_mdc_adrg.loc[icd_mdc_adrg.is_icd_mdc==False].copy()\n",
    "icd_mdc_icd9_adrg=icd_mdc_adrg.loc[icd_mdc_adrg.is_icd_mdc==True].copy()\n",
    "\n",
    "icd_mdc.to_csv('./LOOKUP_TABLES/1_5_ICD_to_MDC.csv',encoding='gbk')\n",
    "icd_mdc_icd9_adrg.to_csv('./LOOKUP_TABLES/2_5_MDC_ICD9_to_ADRG.csv',encoding='gbk')\n",
    "```"
   ]
  },
  {
   "cell_type": "markdown",
   "metadata": {},
   "source": [
    "#### 1.2. 依据MDC费用分布随机生成ADRG费用"
   ]
  },
  {
   "cell_type": "code",
   "execution_count": 21,
   "metadata": {},
   "outputs": [],
   "source": [
    "mdc2adrg=pd.read_csv('./LOOKUP_TABLES/2_MDC_to_ADRG_GB2312.csv',encoding='utf-8')"
   ]
  },
  {
   "cell_type": "code",
   "execution_count": 22,
   "metadata": {},
   "outputs": [
    {
     "data": {
      "text/html": [
       "<div>\n",
       "<style scoped>\n",
       "    .dataframe tbody tr th:only-of-type {\n",
       "        vertical-align: middle;\n",
       "    }\n",
       "\n",
       "    .dataframe tbody tr th {\n",
       "        vertical-align: top;\n",
       "    }\n",
       "\n",
       "    .dataframe thead th {\n",
       "        text-align: right;\n",
       "    }\n",
       "</style>\n",
       "<table border=\"1\" class=\"dataframe\">\n",
       "  <thead>\n",
       "    <tr style=\"text-align: right;\">\n",
       "      <th></th>\n",
       "      <th>MDC_CODE</th>\n",
       "      <th>MDC_NAME</th>\n",
       "      <th>ADRG_CODE</th>\n",
       "      <th>ADRG_NAME</th>\n",
       "    </tr>\n",
       "  </thead>\n",
       "  <tbody>\n",
       "    <tr>\n",
       "      <th>0</th>\n",
       "      <td>MDCA</td>\n",
       "      <td>先期分组疾病及相关操作</td>\n",
       "      <td>AA1</td>\n",
       "      <td>心脏移植</td>\n",
       "    </tr>\n",
       "    <tr>\n",
       "      <th>1</th>\n",
       "      <td>MDCA</td>\n",
       "      <td>先期分组疾病及相关操作</td>\n",
       "      <td>AB1</td>\n",
       "      <td>肝移植</td>\n",
       "    </tr>\n",
       "    <tr>\n",
       "      <th>2</th>\n",
       "      <td>MDCA</td>\n",
       "      <td>先期分组疾病及相关操作</td>\n",
       "      <td>AC1</td>\n",
       "      <td>胰/肾联合移植</td>\n",
       "    </tr>\n",
       "    <tr>\n",
       "      <th>3</th>\n",
       "      <td>MDCA</td>\n",
       "      <td>先期分组疾病及相关操作</td>\n",
       "      <td>AD1</td>\n",
       "      <td>胰腺移植</td>\n",
       "    </tr>\n",
       "    <tr>\n",
       "      <th>4</th>\n",
       "      <td>MDCA</td>\n",
       "      <td>先期分组疾病及相关操作</td>\n",
       "      <td>AE1</td>\n",
       "      <td>肾移植</td>\n",
       "    </tr>\n",
       "  </tbody>\n",
       "</table>\n",
       "</div>"
      ],
      "text/plain": [
       "  MDC_CODE     MDC_NAME ADRG_CODE ADRG_NAME\n",
       "0     MDCA  先期分组疾病及相关操作       AA1      心脏移植\n",
       "1     MDCA  先期分组疾病及相关操作       AB1       肝移植\n",
       "2     MDCA  先期分组疾病及相关操作       AC1   胰/肾联合移植\n",
       "3     MDCA  先期分组疾病及相关操作       AD1      胰腺移植\n",
       "4     MDCA  先期分组疾病及相关操作       AE1       肾移植"
      ]
     },
     "execution_count": 22,
     "metadata": {},
     "output_type": "execute_result"
    }
   ],
   "source": [
    "mdc2adrg.head()"
   ]
  },
  {
   "cell_type": "code",
   "execution_count": 28,
   "metadata": {},
   "outputs": [],
   "source": [
    "adrg_means=[np.random.normal(*(mdc_mean_dict.get('MDC'+adrg[0]))) for adrg in mdc2adrg.ADRG_CODE]\n",
    "adrg_devs=np.random.randint(1, high=5, size=len(mdc2adrg), dtype=int)\n",
    "adrg_mean_dict={adrg:(m,dev) for adrg,m,dev in zip(mdc2adrg.ADRG_CODE,adrg_means,adrg_devs)}"
   ]
  },
  {
   "cell_type": "code",
   "execution_count": 91,
   "metadata": {},
   "outputs": [
    {
     "data": {
      "text/plain": [
       "(338.1095244907688, 4)"
      ]
     },
     "execution_count": 91,
     "metadata": {},
     "output_type": "execute_result"
    }
   ],
   "source": [
    "adrg_mean_dict['AA1']"
   ]
  },
  {
   "cell_type": "markdown",
   "metadata": {},
   "source": [
    "#### 1.3. 依据ADRG费用分布随机生成DRG费用"
   ]
  },
  {
   "cell_type": "code",
   "execution_count": 100,
   "metadata": {},
   "outputs": [],
   "source": [
    "adrg2drg= pd.read_csv('./LOOKUP_TABLES/4_ADRG_to_DRG_GB2312.csv',encoding='gbk')"
   ]
  },
  {
   "cell_type": "code",
   "execution_count": 101,
   "metadata": {},
   "outputs": [
    {
     "data": {
      "text/html": [
       "<div>\n",
       "<style scoped>\n",
       "    .dataframe tbody tr th:only-of-type {\n",
       "        vertical-align: middle;\n",
       "    }\n",
       "\n",
       "    .dataframe tbody tr th {\n",
       "        vertical-align: top;\n",
       "    }\n",
       "\n",
       "    .dataframe thead th {\n",
       "        text-align: right;\n",
       "    }\n",
       "</style>\n",
       "<table border=\"1\" class=\"dataframe\">\n",
       "  <thead>\n",
       "    <tr style=\"text-align: right;\">\n",
       "      <th></th>\n",
       "      <th>ADRG_CODE</th>\n",
       "      <th>DRG_CODE</th>\n",
       "      <th>DRG_NAME</th>\n",
       "    </tr>\n",
       "  </thead>\n",
       "  <tbody>\n",
       "    <tr>\n",
       "      <th>0</th>\n",
       "      <td>AA1</td>\n",
       "      <td>AA19</td>\n",
       "      <td>心脏移植</td>\n",
       "    </tr>\n",
       "    <tr>\n",
       "      <th>1</th>\n",
       "      <td>AB1</td>\n",
       "      <td>AB19</td>\n",
       "      <td>肝移植</td>\n",
       "    </tr>\n",
       "    <tr>\n",
       "      <th>2</th>\n",
       "      <td>AC1</td>\n",
       "      <td>AC19</td>\n",
       "      <td>胰/肾联合移植</td>\n",
       "    </tr>\n",
       "    <tr>\n",
       "      <th>3</th>\n",
       "      <td>AD1</td>\n",
       "      <td>AD19</td>\n",
       "      <td>胰腺移植</td>\n",
       "    </tr>\n",
       "    <tr>\n",
       "      <th>4</th>\n",
       "      <td>AE1</td>\n",
       "      <td>AE19</td>\n",
       "      <td>肾移植</td>\n",
       "    </tr>\n",
       "  </tbody>\n",
       "</table>\n",
       "</div>"
      ],
      "text/plain": [
       "  ADRG_CODE DRG_CODE DRG_NAME\n",
       "0       AA1     AA19     心脏移植\n",
       "1       AB1     AB19      肝移植\n",
       "2       AC1     AC19  胰/肾联合移植\n",
       "3       AD1     AD19     胰腺移植\n",
       "4       AE1     AE19      肾移植"
      ]
     },
     "execution_count": 101,
     "metadata": {},
     "output_type": "execute_result"
    }
   ],
   "source": [
    "adrg2drg.head()"
   ]
  },
  {
   "cell_type": "code",
   "execution_count": 102,
   "metadata": {},
   "outputs": [],
   "source": [
    "drg_means=[np.random.normal(*(adrg_mean_dict.get(adrg))) for adrg in adrg2drg.ADRG_CODE]\n",
    "drg_devs=np.random.randint(1, high=5, size=len(adrg2drg), dtype=int)\n",
    "drg_mean_dict={drg:(m,dev) for drg,m,dev in zip(adrg2drg.DRG_CODE,drg_means,drg_devs)}"
   ]
  },
  {
   "cell_type": "code",
   "execution_count": 103,
   "metadata": {},
   "outputs": [
    {
     "data": {
      "text/plain": [
       "(338.12894280172344, 2)"
      ]
     },
     "execution_count": 103,
     "metadata": {},
     "output_type": "execute_result"
    }
   ],
   "source": [
    "drg_mean_dict['AA19']"
   ]
  },
  {
   "cell_type": "markdown",
   "metadata": {},
   "source": [
    "### 2. 制作映射表（采样函数）\n",
    "> 按MDC -> ADRG -> DRG -> Case 层级采样"
   ]
  },
  {
   "cell_type": "markdown",
   "metadata": {},
   "source": [
    "#### 2.1. MDC to ADRG"
   ]
  },
  {
   "cell_type": "code",
   "execution_count": 44,
   "metadata": {},
   "outputs": [],
   "source": [
    "mdc_adrg_dict=mdc2adrg.groupby('MDC_CODE')['ADRG_CODE'].apply(list)\n",
    "mdc_adrg_dict=mdc_adrg_dict.to_dict()"
   ]
  },
  {
   "cell_type": "markdown",
   "metadata": {},
   "source": [
    "> Test"
   ]
  },
  {
   "cell_type": "code",
   "execution_count": 59,
   "metadata": {},
   "outputs": [
    {
     "data": {
      "text/plain": [
       "['AA1', 'AB1', 'AC1', 'AD1', 'AE1', 'AF1', 'AG1', 'AG2', 'AH1']"
      ]
     },
     "execution_count": 59,
     "metadata": {},
     "output_type": "execute_result"
    }
   ],
   "source": [
    "mdc_adrg_dict.get('MDCA')"
   ]
  },
  {
   "cell_type": "markdown",
   "metadata": {},
   "source": [
    "#### 2.2. ADRG to DRG"
   ]
  },
  {
   "cell_type": "code",
   "execution_count": 104,
   "metadata": {},
   "outputs": [],
   "source": [
    "# adrg to drg mapping\n",
    "adrg_drg_dict=adrg2drg.groupby('ADRG_CODE')['DRG_CODE'].apply(list)\n",
    "adrg_drg_dict=adrg_drg_dict.to_dict()"
   ]
  },
  {
   "cell_type": "markdown",
   "metadata": {},
   "source": [
    "> Test"
   ]
  },
  {
   "cell_type": "code",
   "execution_count": 105,
   "metadata": {},
   "outputs": [
    {
     "data": {
      "text/plain": [
       "['AA19']"
      ]
     },
     "execution_count": 105,
     "metadata": {},
     "output_type": "execute_result"
    }
   ],
   "source": [
    "adrg_drg_dict['AA1']"
   ]
  },
  {
   "cell_type": "markdown",
   "metadata": {},
   "source": [
    "#### 2.3. ADRG to ICD"
   ]
  },
  {
   "cell_type": "code",
   "execution_count": 62,
   "metadata": {},
   "outputs": [],
   "source": [
    "## load adrg icd icd9 lookup table\n",
    "icd2mdc2adrg=pd.read_csv('./LOOKUP_TABLES/2_5_MDC_ICD9_to_ADRG.csv',encoding='utf-8')"
   ]
  },
  {
   "cell_type": "code",
   "execution_count": 63,
   "metadata": {},
   "outputs": [
    {
     "data": {
      "text/html": [
       "<div>\n",
       "<style scoped>\n",
       "    .dataframe tbody tr th:only-of-type {\n",
       "        vertical-align: middle;\n",
       "    }\n",
       "\n",
       "    .dataframe tbody tr th {\n",
       "        vertical-align: top;\n",
       "    }\n",
       "\n",
       "    .dataframe thead th {\n",
       "        text-align: right;\n",
       "    }\n",
       "</style>\n",
       "<table border=\"1\" class=\"dataframe\">\n",
       "  <thead>\n",
       "    <tr style=\"text-align: right;\">\n",
       "      <th></th>\n",
       "      <th>MDC_CODE</th>\n",
       "      <th>MDC_NAME</th>\n",
       "      <th>ADRG_CODE</th>\n",
       "      <th>ADRG_NAME</th>\n",
       "      <th>ICD_CODE</th>\n",
       "      <th>ICD_DESC</th>\n",
       "      <th>AND_FLAG</th>\n",
       "      <th>GROUP_FLAG</th>\n",
       "      <th>is_icd_mdc</th>\n",
       "      <th>is_icd9</th>\n",
       "    </tr>\n",
       "  </thead>\n",
       "  <tbody>\n",
       "    <tr>\n",
       "      <th>0</th>\n",
       "      <td>MDCA</td>\n",
       "      <td>先期分组疾病及相关操作</td>\n",
       "      <td>AA1</td>\n",
       "      <td>心脏移植</td>\n",
       "      <td>37.51</td>\n",
       "      <td>心脏移植术</td>\n",
       "      <td>N</td>\n",
       "      <td>0</td>\n",
       "      <td>True</td>\n",
       "      <td>True</td>\n",
       "    </tr>\n",
       "    <tr>\n",
       "      <th>1</th>\n",
       "      <td>MDCA</td>\n",
       "      <td>先期分组疾病及相关操作</td>\n",
       "      <td>AB1</td>\n",
       "      <td>肝移植</td>\n",
       "      <td>50.51</td>\n",
       "      <td>辅助肝移植</td>\n",
       "      <td>N</td>\n",
       "      <td>0</td>\n",
       "      <td>True</td>\n",
       "      <td>True</td>\n",
       "    </tr>\n",
       "    <tr>\n",
       "      <th>2</th>\n",
       "      <td>MDCA</td>\n",
       "      <td>先期分组疾病及相关操作</td>\n",
       "      <td>AB1</td>\n",
       "      <td>肝移植</td>\n",
       "      <td>50.5100x001</td>\n",
       "      <td>同种异体原位肝移植术</td>\n",
       "      <td>N</td>\n",
       "      <td>0</td>\n",
       "      <td>True</td>\n",
       "      <td>True</td>\n",
       "    </tr>\n",
       "    <tr>\n",
       "      <th>3</th>\n",
       "      <td>MDCA</td>\n",
       "      <td>先期分组疾病及相关操作</td>\n",
       "      <td>AB1</td>\n",
       "      <td>肝移植</td>\n",
       "      <td>50.5900x001</td>\n",
       "      <td>肝肾联合移植术</td>\n",
       "      <td>N</td>\n",
       "      <td>0</td>\n",
       "      <td>True</td>\n",
       "      <td>True</td>\n",
       "    </tr>\n",
       "    <tr>\n",
       "      <th>4</th>\n",
       "      <td>MDCA</td>\n",
       "      <td>先期分组疾病及相关操作</td>\n",
       "      <td>AB1</td>\n",
       "      <td>肝移植</td>\n",
       "      <td>50.5900x004</td>\n",
       "      <td>同种异体肝肾联合移植术</td>\n",
       "      <td>N</td>\n",
       "      <td>0</td>\n",
       "      <td>True</td>\n",
       "      <td>True</td>\n",
       "    </tr>\n",
       "  </tbody>\n",
       "</table>\n",
       "</div>"
      ],
      "text/plain": [
       "  MDC_CODE     MDC_NAME ADRG_CODE ADRG_NAME     ICD_CODE     ICD_DESC  \\\n",
       "0     MDCA  先期分组疾病及相关操作       AA1      心脏移植        37.51        心脏移植术   \n",
       "1     MDCA  先期分组疾病及相关操作       AB1       肝移植        50.51        辅助肝移植   \n",
       "2     MDCA  先期分组疾病及相关操作       AB1       肝移植  50.5100x001   同种异体原位肝移植术   \n",
       "3     MDCA  先期分组疾病及相关操作       AB1       肝移植  50.5900x001      肝肾联合移植术   \n",
       "4     MDCA  先期分组疾病及相关操作       AB1       肝移植  50.5900x004  同种异体肝肾联合移植术   \n",
       "\n",
       "  AND_FLAG  GROUP_FLAG  is_icd_mdc  is_icd9  \n",
       "0        N           0        True     True  \n",
       "1        N           0        True     True  \n",
       "2        N           0        True     True  \n",
       "3        N           0        True     True  \n",
       "4        N           0        True     True  "
      ]
     },
     "execution_count": 63,
     "metadata": {},
     "output_type": "execute_result"
    }
   ],
   "source": [
    "icd2mdc2adrg.head()"
   ]
  },
  {
   "cell_type": "code",
   "execution_count": 65,
   "metadata": {},
   "outputs": [],
   "source": [
    "icd2mdc2adrg_icd=icd2mdc2adrg.loc[icd2mdc2adrg.is_icd9==False]\n",
    "icd2mdc2adrg_icd9=icd2mdc2adrg.loc[icd2mdc2adrg.is_icd9==True]"
   ]
  },
  {
   "cell_type": "code",
   "execution_count": 66,
   "metadata": {},
   "outputs": [],
   "source": [
    "# adrg to icd mapping\n",
    "adrg_icd_dict=icd2mdc2adrg_icd.groupby('ADRG_CODE')['ICD_CODE'].apply(list)\n",
    "adrg_icd_dict=adrg_icd_dict.to_dict()"
   ]
  },
  {
   "cell_type": "code",
   "execution_count": 67,
   "metadata": {},
   "outputs": [],
   "source": [
    "# adrg to icd9 mapping\n",
    "adrg_icd9_dict=icd2mdc2adrg_icd9.groupby('ADRG_CODE')['ICD_CODE'].apply(list)\n",
    "adrg_icd9_dict=adrg_icd9_dict.to_dict()"
   ]
  },
  {
   "cell_type": "markdown",
   "metadata": {},
   "source": [
    "> Test"
   ]
  },
  {
   "cell_type": "code",
   "execution_count": 123,
   "metadata": {},
   "outputs": [
    {
     "data": {
      "text/plain": [
       "['S01.800x011', 'S01.800x021', 'S01.800x031', 'S01.800x081', 'S01.801']"
      ]
     },
     "execution_count": 123,
     "metadata": {},
     "output_type": "execute_result"
    }
   ],
   "source": [
    "adrg_icd_dict.get('BB1',['NA'])[:5]"
   ]
  },
  {
   "cell_type": "code",
   "execution_count": 125,
   "metadata": {},
   "outputs": [
    {
     "data": {
      "text/plain": [
       "['1.15', '01.1800x002', '01.2100x001', '1.23', '01.2400x005']"
      ]
     },
     "execution_count": 125,
     "metadata": {},
     "output_type": "execute_result"
    }
   ],
   "source": [
    "adrg_icd9_dict.get('BB2')[:5]"
   ]
  },
  {
   "cell_type": "markdown",
   "metadata": {},
   "source": [
    "#### 2.4. MCC/CC list"
   ]
  },
  {
   "cell_type": "code",
   "execution_count": 85,
   "metadata": {},
   "outputs": [],
   "source": [
    "# load mcc cc lst"
   ]
  },
  {
   "cell_type": "code",
   "execution_count": 84,
   "metadata": {},
   "outputs": [],
   "source": [
    "mcc_lst=pd.read_csv('./LOOKUP_TABLES/5_MCC_LIST_GB2312.csv',encoding='gbk')\n",
    "cc_lst=pd.read_csv('./LOOKUP_TABLES/6_CC_LIST_GB2312.csv',encoding='gbk')"
   ]
  },
  {
   "cell_type": "code",
   "execution_count": 87,
   "metadata": {},
   "outputs": [
    {
     "data": {
      "text/html": [
       "<div>\n",
       "<style scoped>\n",
       "    .dataframe tbody tr th:only-of-type {\n",
       "        vertical-align: middle;\n",
       "    }\n",
       "\n",
       "    .dataframe tbody tr th {\n",
       "        vertical-align: top;\n",
       "    }\n",
       "\n",
       "    .dataframe thead th {\n",
       "        text-align: right;\n",
       "    }\n",
       "</style>\n",
       "<table border=\"1\" class=\"dataframe\">\n",
       "  <thead>\n",
       "    <tr style=\"text-align: right;\">\n",
       "      <th></th>\n",
       "      <th>MCC_ICD_CODE</th>\n",
       "      <th>MCC_ICD_NAME</th>\n",
       "      <th>EXCLUDE</th>\n",
       "    </tr>\n",
       "  </thead>\n",
       "  <tbody>\n",
       "    <tr>\n",
       "      <th>0</th>\n",
       "      <td>A02.100</td>\n",
       "      <td>沙门菌脓毒症</td>\n",
       "      <td>7_1</td>\n",
       "    </tr>\n",
       "    <tr>\n",
       "      <th>1</th>\n",
       "      <td>A02.100x002</td>\n",
       "      <td>鼠伤寒沙门菌脓毒症</td>\n",
       "      <td>7_1</td>\n",
       "    </tr>\n",
       "    <tr>\n",
       "      <th>2</th>\n",
       "      <td>A02.101</td>\n",
       "      <td>猪霍乱沙门菌脓毒症</td>\n",
       "      <td>7_1</td>\n",
       "    </tr>\n",
       "    <tr>\n",
       "      <th>3</th>\n",
       "      <td>A03.800x001</td>\n",
       "      <td>不定型志贺菌痢疾</td>\n",
       "      <td>7_1</td>\n",
       "    </tr>\n",
       "    <tr>\n",
       "      <th>4</th>\n",
       "      <td>A03.800x002</td>\n",
       "      <td>菌痢混合感染</td>\n",
       "      <td>7_1</td>\n",
       "    </tr>\n",
       "  </tbody>\n",
       "</table>\n",
       "</div>"
      ],
      "text/plain": [
       "  MCC_ICD_CODE MCC_ICD_NAME EXCLUDE\n",
       "0      A02.100       沙门菌脓毒症     7_1\n",
       "1  A02.100x002    鼠伤寒沙门菌脓毒症     7_1\n",
       "2      A02.101    猪霍乱沙门菌脓毒症     7_1\n",
       "3  A03.800x001     不定型志贺菌痢疾     7_1\n",
       "4  A03.800x002       菌痢混合感染     7_1"
      ]
     },
     "execution_count": 87,
     "metadata": {},
     "output_type": "execute_result"
    }
   ],
   "source": [
    "mcc_lst.head()"
   ]
  },
  {
   "cell_type": "code",
   "execution_count": 88,
   "metadata": {},
   "outputs": [
    {
     "data": {
      "text/html": [
       "<div>\n",
       "<style scoped>\n",
       "    .dataframe tbody tr th:only-of-type {\n",
       "        vertical-align: middle;\n",
       "    }\n",
       "\n",
       "    .dataframe tbody tr th {\n",
       "        vertical-align: top;\n",
       "    }\n",
       "\n",
       "    .dataframe thead th {\n",
       "        text-align: right;\n",
       "    }\n",
       "</style>\n",
       "<table border=\"1\" class=\"dataframe\">\n",
       "  <thead>\n",
       "    <tr style=\"text-align: right;\">\n",
       "      <th></th>\n",
       "      <th>CC_ICD_CODE</th>\n",
       "      <th>CC_ICD_NAME</th>\n",
       "      <th>CC_EXCLUDE</th>\n",
       "    </tr>\n",
       "  </thead>\n",
       "  <tbody>\n",
       "    <tr>\n",
       "      <th>0</th>\n",
       "      <td>A03.000x001</td>\n",
       "      <td>痢疾志贺菌痢疾</td>\n",
       "      <td>7_1</td>\n",
       "    </tr>\n",
       "    <tr>\n",
       "      <th>1</th>\n",
       "      <td>A03.200x001</td>\n",
       "      <td>鲍氏志贺菌痢疾</td>\n",
       "      <td>7_1</td>\n",
       "    </tr>\n",
       "    <tr>\n",
       "      <th>2</th>\n",
       "      <td>A03.900</td>\n",
       "      <td>细菌性痢疾</td>\n",
       "      <td>7_1</td>\n",
       "    </tr>\n",
       "    <tr>\n",
       "      <th>3</th>\n",
       "      <td>A03.900x002</td>\n",
       "      <td>慢性细菌性痢疾急性发作</td>\n",
       "      <td>7_1</td>\n",
       "    </tr>\n",
       "    <tr>\n",
       "      <th>4</th>\n",
       "      <td>A03.900x005</td>\n",
       "      <td>慢性隐匿型菌痢</td>\n",
       "      <td>7_1</td>\n",
       "    </tr>\n",
       "  </tbody>\n",
       "</table>\n",
       "</div>"
      ],
      "text/plain": [
       "   CC_ICD_CODE  CC_ICD_NAME CC_EXCLUDE\n",
       "0  A03.000x001      痢疾志贺菌痢疾        7_1\n",
       "1  A03.200x001      鲍氏志贺菌痢疾        7_1\n",
       "2      A03.900        细菌性痢疾        7_1\n",
       "3  A03.900x002  慢性细菌性痢疾急性发作        7_1\n",
       "4  A03.900x005      慢性隐匿型菌痢        7_1"
      ]
     },
     "execution_count": 88,
     "metadata": {},
     "output_type": "execute_result"
    }
   ],
   "source": [
    "cc_lst.head()"
   ]
  },
  {
   "cell_type": "markdown",
   "metadata": {},
   "source": [
    "### 3. 生成虚拟数据"
   ]
  },
  {
   "cell_type": "code",
   "execution_count": null,
   "metadata": {},
   "outputs": [],
   "source": [
    "# mdc -> adrg -> fake drg(>50)fee -> case fee\n",
    "# just use drg code as bridge no essential meaning"
   ]
  },
  {
   "cell_type": "code",
   "execution_count": 36,
   "metadata": {},
   "outputs": [],
   "source": [
    "sample_size=10000"
   ]
  },
  {
   "cell_type": "code",
   "execution_count": 36,
   "metadata": {},
   "outputs": [],
   "source": [
    "case_ids=[ranstr(5) for i in range(sample_size)]\n",
    "\n",
    "case_mdcs=[np.random.choice(mdc_lst.MDC_CODE) for i in range(sample_size)]\n",
    "\n",
    "case_adrgs=[np.random.choice(mdc_adrg_dict[m]) for m in case_mdcs]"
   ]
  },
  {
   "cell_type": "code",
   "execution_count": null,
   "metadata": {},
   "outputs": [],
   "source": [
    "# diag 先只能不严谨的造了，后续改进"
   ]
  },
  {
   "cell_type": "code",
   "execution_count": 74,
   "metadata": {},
   "outputs": [],
   "source": [
    "case_diag_p=[np.random.choice(adrg_icd_dict.get(adrg,['NA'])) for adrg in case_adrgs]"
   ]
  },
  {
   "cell_type": "code",
   "execution_count": 75,
   "metadata": {},
   "outputs": [],
   "source": [
    "case_oper_p=[np.random.choice(adrg_icd9_dict.get(adrg,['NA'])) for adrg in case_adrgs]"
   ]
  },
  {
   "cell_type": "code",
   "execution_count": null,
   "metadata": {},
   "outputs": [],
   "source": [
    "# 其他诊断也先不严谨先用cc/mcc造了，后续有效性靠分组器本身"
   ]
  },
  {
   "cell_type": "code",
   "execution_count": 89,
   "metadata": {},
   "outputs": [],
   "source": [
    "case_diag_oth=[np.random.choice(mcc_lst.MCC_ICD_CODE) for i in range(sample_size)]"
   ]
  },
  {
   "cell_type": "code",
   "execution_count": 94,
   "metadata": {},
   "outputs": [],
   "source": [
    "case_age=[np.random.randint(18,80) for i in range(sample_size)]"
   ]
  },
  {
   "cell_type": "code",
   "execution_count": 96,
   "metadata": {},
   "outputs": [],
   "source": [
    "# 0 for female, 1 for male\n",
    "case_gender=[np.random.choice([0,1]) for i in range(sample_size)]"
   ]
  },
  {
   "cell_type": "code",
   "execution_count": 112,
   "metadata": {},
   "outputs": [],
   "source": [
    "# fake drg just a mark\n",
    "case_drg=[adrg_drg_dict.get(adrg)[0] if age<=17 \\\n",
    "          else adrg_drg_dict.get(adrg)[-1] if age<=60 \\\n",
    "          else np.random.choice(adrg_drg_dict.get(adrg)) for adrg,age in zip(case_adrgs,case_age)]"
   ]
  },
  {
   "cell_type": "code",
   "execution_count": 114,
   "metadata": {},
   "outputs": [],
   "source": [
    "# fee gen\n",
    "case_fee=[np.random.normal(*(drg_mean_dict.get(drg))) for drg in case_drg]"
   ]
  },
  {
   "cell_type": "code",
   "execution_count": 118,
   "metadata": {},
   "outputs": [],
   "source": [
    "## i means imaginary ii means imaginary^2\n",
    "case_df=pd.DataFrame({\"case_id\":case_ids,\"gender\":case_gender,\"age\":case_age,\\\n",
    "                    \"diag_p\":case_diag_p,\"diag_oth\":case_diag_oth,\\\n",
    "                    \"oper_p\":case_oper_p,\"fee\":case_fee,\\\n",
    "                    \"mdci\":case_mdcs,\"adrgi\":case_adrgs,\"drgii\":case_drg})"
   ]
  },
  {
   "cell_type": "code",
   "execution_count": 119,
   "metadata": {},
   "outputs": [
    {
     "data": {
      "text/html": [
       "<div>\n",
       "<style scoped>\n",
       "    .dataframe tbody tr th:only-of-type {\n",
       "        vertical-align: middle;\n",
       "    }\n",
       "\n",
       "    .dataframe tbody tr th {\n",
       "        vertical-align: top;\n",
       "    }\n",
       "\n",
       "    .dataframe thead th {\n",
       "        text-align: right;\n",
       "    }\n",
       "</style>\n",
       "<table border=\"1\" class=\"dataframe\">\n",
       "  <thead>\n",
       "    <tr style=\"text-align: right;\">\n",
       "      <th></th>\n",
       "      <th>case_id</th>\n",
       "      <th>gender</th>\n",
       "      <th>age</th>\n",
       "      <th>diag_p</th>\n",
       "      <th>diag_oth</th>\n",
       "      <th>oper_p</th>\n",
       "      <th>fee</th>\n",
       "      <th>mdci</th>\n",
       "      <th>adrgi</th>\n",
       "      <th>drgii</th>\n",
       "    </tr>\n",
       "  </thead>\n",
       "  <tbody>\n",
       "    <tr>\n",
       "      <th>0</th>\n",
       "      <td>M2kT0</td>\n",
       "      <td>1</td>\n",
       "      <td>28</td>\n",
       "      <td>NA</td>\n",
       "      <td>D68.205</td>\n",
       "      <td>NA</td>\n",
       "      <td>270.346024</td>\n",
       "      <td>MDCZ</td>\n",
       "      <td>ZZ1</td>\n",
       "      <td>ZZ15</td>\n",
       "    </tr>\n",
       "    <tr>\n",
       "      <th>1</th>\n",
       "      <td>hnvKA</td>\n",
       "      <td>0</td>\n",
       "      <td>50</td>\n",
       "      <td>NA</td>\n",
       "      <td>S25.301</td>\n",
       "      <td>NA</td>\n",
       "      <td>134.990506</td>\n",
       "      <td>MDCS</td>\n",
       "      <td>SB1</td>\n",
       "      <td>SB15</td>\n",
       "    </tr>\n",
       "    <tr>\n",
       "      <th>2</th>\n",
       "      <td>UccRl</td>\n",
       "      <td>1</td>\n",
       "      <td>61</td>\n",
       "      <td>NA</td>\n",
       "      <td>S12.700</td>\n",
       "      <td>14.3901</td>\n",
       "      <td>157.395593</td>\n",
       "      <td>MDCC</td>\n",
       "      <td>CB1</td>\n",
       "      <td>CB19</td>\n",
       "    </tr>\n",
       "    <tr>\n",
       "      <th>3</th>\n",
       "      <td>lWS3r</td>\n",
       "      <td>0</td>\n",
       "      <td>23</td>\n",
       "      <td>NA</td>\n",
       "      <td>S35.201</td>\n",
       "      <td>54.1904</td>\n",
       "      <td>267.941256</td>\n",
       "      <td>MDCM</td>\n",
       "      <td>MJ1</td>\n",
       "      <td>MJ19</td>\n",
       "    </tr>\n",
       "    <tr>\n",
       "      <th>4</th>\n",
       "      <td>ectQx</td>\n",
       "      <td>0</td>\n",
       "      <td>78</td>\n",
       "      <td>D37.019</td>\n",
       "      <td>T82.501</td>\n",
       "      <td>NA</td>\n",
       "      <td>389.045262</td>\n",
       "      <td>MDCD</td>\n",
       "      <td>DR1</td>\n",
       "      <td>DR13</td>\n",
       "    </tr>\n",
       "  </tbody>\n",
       "</table>\n",
       "</div>"
      ],
      "text/plain": [
       "  case_id  gender  age   diag_p diag_oth   oper_p         fee  mdci adrgi  \\\n",
       "0   M2kT0       1   28       NA  D68.205       NA  270.346024  MDCZ   ZZ1   \n",
       "1   hnvKA       0   50       NA  S25.301       NA  134.990506  MDCS   SB1   \n",
       "2   UccRl       1   61       NA  S12.700  14.3901  157.395593  MDCC   CB1   \n",
       "3   lWS3r       0   23       NA  S35.201  54.1904  267.941256  MDCM   MJ1   \n",
       "4   ectQx       0   78  D37.019  T82.501       NA  389.045262  MDCD   DR1   \n",
       "\n",
       "  drgii  \n",
       "0  ZZ15  \n",
       "1  SB15  \n",
       "2  CB19  \n",
       "3  MJ19  \n",
       "4  DR13  "
      ]
     },
     "execution_count": 119,
     "metadata": {},
     "output_type": "execute_result"
    }
   ],
   "source": [
    "case_df.head()"
   ]
  },
  {
   "cell_type": "code",
   "execution_count": 121,
   "metadata": {},
   "outputs": [],
   "source": [
    "case_df.to_csv('./dummy_data/dummy_cases.csv',index=False)"
   ]
  },
  {
   "cell_type": "code",
   "execution_count": null,
   "metadata": {},
   "outputs": [],
   "source": [
    "# 生成的缺失主诊断的数据姑且当作脏数据由野生分组器处理看看"
   ]
  },
  {
   "cell_type": "markdown",
   "metadata": {},
   "source": [
    "### End"
   ]
  },
  {
   "cell_type": "code",
   "execution_count": null,
   "metadata": {},
   "outputs": [],
   "source": []
  }
 ],
 "metadata": {
  "kernelspec": {
   "display_name": "Python 3",
   "language": "python",
   "name": "python3"
  },
  "language_info": {
   "codemirror_mode": {
    "name": "ipython",
    "version": 3
   },
   "file_extension": ".py",
   "mimetype": "text/x-python",
   "name": "python",
   "nbconvert_exporter": "python",
   "pygments_lexer": "ipython3",
   "version": "3.8.3"
  }
 },
 "nbformat": 4,
 "nbformat_minor": 4
}
