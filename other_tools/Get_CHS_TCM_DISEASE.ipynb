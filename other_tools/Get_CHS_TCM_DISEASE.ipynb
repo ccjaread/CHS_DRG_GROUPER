{
 "cells": [
  {
   "cell_type": "code",
   "execution_count": 1,
   "metadata": {},
   "outputs": [],
   "source": [
    "import requests\n",
    "from bs4 import BeautifulSoup\n",
    "import pandas as pd"
   ]
  },
  {
   "cell_type": "code",
   "execution_count": 2,
   "metadata": {},
   "outputs": [],
   "source": [
    "headers={\"User-Agent\": \"Mozilla/5.0 (Macintosh; Intel Mac OS X 10_14_2) AppleWebKit/605.1.15 (KHTML, like Gecko) Version/12.0.2 Safari/605.1.15\"\n",
    "        }"
   ]
  },
  {
   "cell_type": "code",
   "execution_count": 8,
   "metadata": {},
   "outputs": [],
   "source": [
    "icd_chap_url=u'http://code.nhsa.gov.cn:8000/jbzd/public/toStdTcmTreeList.html?partcode=B'\n",
    "icd_chapter=requests.get(icd_chap_url,headers=headers)"
   ]
  },
  {
   "cell_type": "code",
   "execution_count": 9,
   "metadata": {},
   "outputs": [],
   "source": [
    "icd_chapter=icd_chapter.json()"
   ]
  },
  {
   "cell_type": "code",
   "execution_count": 6,
   "metadata": {},
   "outputs": [
    {
     "data": {
      "text/plain": [
       "'20545f20-7930-11e9-9611-8cec4bd010f3'"
      ]
     },
     "execution_count": 6,
     "metadata": {},
     "output_type": "execute_result"
    }
   ],
   "source": [
    "icd_chapter[0]['tcmId']"
   ]
  },
  {
   "cell_type": "code",
   "execution_count": 7,
   "metadata": {},
   "outputs": [],
   "source": [
    "icd_chapter=pd.DataFrame(icd_chapter)\n",
    "icd_chapter.to_csv('./CHS_TCM_DISEASE_CHAPTER.csv')"
   ]
  },
  {
   "cell_type": "code",
   "execution_count": 17,
   "metadata": {},
   "outputs": [],
   "source": [
    "icd_detail_url_base=u'http://code.nhsa.gov.cn:8000/jbzd/public/dataTcmSerachDetail.html?tcmId='"
   ]
  },
  {
   "cell_type": "code",
   "execution_count": 18,
   "metadata": {},
   "outputs": [],
   "source": [
    "icd_detail_url_full=icd_detail_url_base+icd_chapter[0]['tcmId']"
   ]
  },
  {
   "cell_type": "code",
   "execution_count": 19,
   "metadata": {},
   "outputs": [
    {
     "data": {
      "text/plain": [
       "'http://code.nhsa.gov.cn:8000/jbzd/public/dataTcmSerachDetail.html?tcmId=20545f20-7930-11e9-9611-8cec4bd010f3'"
      ]
     },
     "execution_count": 19,
     "metadata": {},
     "output_type": "execute_result"
    }
   ],
   "source": [
    "icd_detail_url_full"
   ]
  },
  {
   "cell_type": "code",
   "execution_count": 20,
   "metadata": {},
   "outputs": [],
   "source": [
    "icd_detail=requests.get(icd_detail_url_full,headers=headers)"
   ]
  },
  {
   "cell_type": "code",
   "execution_count": 21,
   "metadata": {},
   "outputs": [],
   "source": [
    "if icd_detail.status_code == 200:\n",
    "    info = {}\n",
    "    soup = BeautifulSoup(icd_detail.text)\n",
    "    icd_code_lst=[d.text.strip() for d in soup.find_all('a')]\n",
    "    icd_name_lst=[d.text.strip() for d in soup.find_all('span')]\n"
   ]
  },
  {
   "cell_type": "code",
   "execution_count": 25,
   "metadata": {},
   "outputs": [],
   "source": [
    "CHS_ICD10=[]\n",
    "for i in range(len(icd_chapter)):\n",
    "    icd_detail_url_full=icd_detail_url_base+icd_chapter[i]['tcmId']\n",
    "    icd_detail=requests.get(icd_detail_url_full,headers=headers)\n",
    "    if icd_detail.status_code == 200:\n",
    "        info = {}\n",
    "        soup = BeautifulSoup(icd_detail.text)\n",
    "        icd_code_lst=[d.text.strip() for d in soup.find_all('a')]\n",
    "        icd_name_lst=[d.text.strip() for d in soup.find_all('span')]\n",
    "        df_icd=pd.DataFrame({'tcm_code':icd_code_lst,'tcm_name':icd_name_lst})\n",
    "        CHS_ICD10.append(df_icd)\n",
    "    else:\n",
    "        print(icd_detail_url_full)"
   ]
  },
  {
   "cell_type": "code",
   "execution_count": 26,
   "metadata": {},
   "outputs": [],
   "source": [
    "CHS_ICD10_Table=pd.concat(CHS_ICD10,axis=0,ignore_index=True)"
   ]
  },
  {
   "cell_type": "code",
   "execution_count": 27,
   "metadata": {},
   "outputs": [
    {
     "data": {
      "text/html": [
       "<div>\n",
       "<style scoped>\n",
       "    .dataframe tbody tr th:only-of-type {\n",
       "        vertical-align: middle;\n",
       "    }\n",
       "\n",
       "    .dataframe tbody tr th {\n",
       "        vertical-align: top;\n",
       "    }\n",
       "\n",
       "    .dataframe thead th {\n",
       "        text-align: right;\n",
       "    }\n",
       "</style>\n",
       "<table border=\"1\" class=\"dataframe\">\n",
       "  <thead>\n",
       "    <tr style=\"text-align: right;\">\n",
       "      <th></th>\n",
       "      <th>tcm_code</th>\n",
       "      <th>tcm_name</th>\n",
       "    </tr>\n",
       "  </thead>\n",
       "  <tbody>\n",
       "    <tr>\n",
       "      <th>0</th>\n",
       "      <td>BNF</td>\n",
       "      <td>肺系病类</td>\n",
       "    </tr>\n",
       "    <tr>\n",
       "      <th>1</th>\n",
       "      <td>BNF010</td>\n",
       "      <td>咳嗽病</td>\n",
       "    </tr>\n",
       "    <tr>\n",
       "      <th>2</th>\n",
       "      <td>BNF011</td>\n",
       "      <td>外感咳嗽病</td>\n",
       "    </tr>\n",
       "    <tr>\n",
       "      <th>3</th>\n",
       "      <td>BNF012</td>\n",
       "      <td>内伤咳嗽病</td>\n",
       "    </tr>\n",
       "    <tr>\n",
       "      <th>4</th>\n",
       "      <td>BNF020</td>\n",
       "      <td>肺痿病</td>\n",
       "    </tr>\n",
       "    <tr>\n",
       "      <th>5</th>\n",
       "      <td>BNF030</td>\n",
       "      <td>肺痈病</td>\n",
       "    </tr>\n",
       "    <tr>\n",
       "      <th>6</th>\n",
       "      <td>BNF040</td>\n",
       "      <td>哮病</td>\n",
       "    </tr>\n",
       "    <tr>\n",
       "      <th>7</th>\n",
       "      <td>BNF050</td>\n",
       "      <td>喘病</td>\n",
       "    </tr>\n",
       "    <tr>\n",
       "      <th>8</th>\n",
       "      <td>BNF051</td>\n",
       "      <td>暴喘病</td>\n",
       "    </tr>\n",
       "    <tr>\n",
       "      <th>9</th>\n",
       "      <td>BNF060</td>\n",
       "      <td>肺胀病</td>\n",
       "    </tr>\n",
       "    <tr>\n",
       "      <th>10</th>\n",
       "      <td>BNF070</td>\n",
       "      <td>肺痨病</td>\n",
       "    </tr>\n",
       "    <tr>\n",
       "      <th>11</th>\n",
       "      <td>BNF080</td>\n",
       "      <td>咯血病</td>\n",
       "    </tr>\n",
       "    <tr>\n",
       "      <th>12</th>\n",
       "      <td>BNF090</td>\n",
       "      <td>鼻衄病</td>\n",
       "    </tr>\n",
       "    <tr>\n",
       "      <th>13</th>\n",
       "      <td>BNF100</td>\n",
       "      <td>失音病</td>\n",
       "    </tr>\n",
       "    <tr>\n",
       "      <th>14</th>\n",
       "      <td>BNF110</td>\n",
       "      <td>肺衰病</td>\n",
       "    </tr>\n",
       "    <tr>\n",
       "      <th>15</th>\n",
       "      <td>BNX</td>\n",
       "      <td>心系病类</td>\n",
       "    </tr>\n",
       "    <tr>\n",
       "      <th>16</th>\n",
       "      <td>BNX010</td>\n",
       "      <td>心悸病</td>\n",
       "    </tr>\n",
       "    <tr>\n",
       "      <th>17</th>\n",
       "      <td>BNX011</td>\n",
       "      <td>惊悸病</td>\n",
       "    </tr>\n",
       "    <tr>\n",
       "      <th>18</th>\n",
       "      <td>BNX012</td>\n",
       "      <td>怔忡病</td>\n",
       "    </tr>\n",
       "    <tr>\n",
       "      <th>19</th>\n",
       "      <td>BNX020</td>\n",
       "      <td>胸痹心痛病</td>\n",
       "    </tr>\n",
       "  </tbody>\n",
       "</table>\n",
       "</div>"
      ],
      "text/plain": [
       "   tcm_code tcm_name\n",
       "0       BNF     肺系病类\n",
       "1    BNF010      咳嗽病\n",
       "2    BNF011    外感咳嗽病\n",
       "3    BNF012    内伤咳嗽病\n",
       "4    BNF020      肺痿病\n",
       "5    BNF030      肺痈病\n",
       "6    BNF040       哮病\n",
       "7    BNF050       喘病\n",
       "8    BNF051      暴喘病\n",
       "9    BNF060      肺胀病\n",
       "10   BNF070      肺痨病\n",
       "11   BNF080      咯血病\n",
       "12   BNF090      鼻衄病\n",
       "13   BNF100      失音病\n",
       "14   BNF110      肺衰病\n",
       "15      BNX     心系病类\n",
       "16   BNX010      心悸病\n",
       "17   BNX011      惊悸病\n",
       "18   BNX012      怔忡病\n",
       "19   BNX020    胸痹心痛病"
      ]
     },
     "execution_count": 27,
     "metadata": {},
     "output_type": "execute_result"
    }
   ],
   "source": [
    "CHS_ICD10_Table.head(20)"
   ]
  },
  {
   "cell_type": "code",
   "execution_count": 28,
   "metadata": {},
   "outputs": [
    {
     "data": {
      "text/plain": [
       "1300"
      ]
     },
     "execution_count": 28,
     "metadata": {},
     "output_type": "execute_result"
    }
   ],
   "source": [
    "len(CHS_ICD10_Table)"
   ]
  },
  {
   "cell_type": "code",
   "execution_count": 29,
   "metadata": {},
   "outputs": [],
   "source": [
    "CHS_ICD10_Table.to_csv('./LOOKUP_TABLES/CHS_TCM_DISEASE.csv',encoding='utf-8',index=False)"
   ]
  },
  {
   "cell_type": "code",
   "execution_count": null,
   "metadata": {},
   "outputs": [],
   "source": []
  }
 ],
 "metadata": {
  "kernelspec": {
   "display_name": "Python 3",
   "language": "python",
   "name": "python3"
  },
  "language_info": {
   "codemirror_mode": {
    "name": "ipython",
    "version": 3
   },
   "file_extension": ".py",
   "mimetype": "text/x-python",
   "name": "python",
   "nbconvert_exporter": "python",
   "pygments_lexer": "ipython3",
   "version": "3.7.6"
  }
 },
 "nbformat": 4,
 "nbformat_minor": 4
}
