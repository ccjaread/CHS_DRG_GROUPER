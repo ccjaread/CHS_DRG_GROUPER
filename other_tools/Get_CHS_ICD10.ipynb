{
 "cells": [
  {
   "cell_type": "code",
   "execution_count": 34,
   "metadata": {},
   "outputs": [],
   "source": [
    "import requests\n",
    "from bs4 import BeautifulSoup\n",
    "import pandas as pd"
   ]
  },
  {
   "cell_type": "code",
   "execution_count": 2,
   "metadata": {},
   "outputs": [],
   "source": [
    "headers={\"User-Agent\": \"Mozilla/5.0 (Macintosh; Intel Mac OS X 10_14_2) AppleWebKit/605.1.15 (KHTML, like Gecko) Version/12.0.2 Safari/605.1.15\"\n",
    "        }"
   ]
  },
  {
   "cell_type": "code",
   "execution_count": 3,
   "metadata": {},
   "outputs": [],
   "source": [
    "icd_chap_url=u'http://code.nhsa.gov.cn:8000/jbzd/public/toStdIcdTreeList.html'\n",
    "icd_chapter=requests.get(icd_chap_url,headers=headers)"
   ]
  },
  {
   "cell_type": "code",
   "execution_count": 5,
   "metadata": {},
   "outputs": [],
   "source": [
    "icd_chapter=icd_chapter.json()"
   ]
  },
  {
   "cell_type": "code",
   "execution_count": 8,
   "metadata": {},
   "outputs": [
    {
     "data": {
      "text/plain": [
       "'f5140552-795f-11e9-9611-8cec4bd010f3'"
      ]
     },
     "execution_count": 8,
     "metadata": {},
     "output_type": "execute_result"
    }
   ],
   "source": [
    "icd_chapter[0]['icdId']"
   ]
  },
  {
   "cell_type": "code",
   "execution_count": 9,
   "metadata": {},
   "outputs": [],
   "source": [
    "icd_detail_url_base=u'http://code.nhsa.gov.cn:8000/jbzd/public/dataWesterSearchDetail.html?icdId='"
   ]
  },
  {
   "cell_type": "code",
   "execution_count": 10,
   "metadata": {},
   "outputs": [],
   "source": [
    "icd_detail_url_full=icd_detail_url_base+icd_chapter[0]['icdId']"
   ]
  },
  {
   "cell_type": "code",
   "execution_count": 11,
   "metadata": {},
   "outputs": [
    {
     "data": {
      "text/plain": [
       "'http://code.nhsa.gov.cn:8000/jbzd/public/dataWesterSearchDetail.html?icdId=f5140552-795f-11e9-9611-8cec4bd010f3'"
      ]
     },
     "execution_count": 11,
     "metadata": {},
     "output_type": "execute_result"
    }
   ],
   "source": [
    "icd_detail_url_full"
   ]
  },
  {
   "cell_type": "code",
   "execution_count": 21,
   "metadata": {},
   "outputs": [],
   "source": [
    "icd_detail=requests.get(icd_detail_url_full,headers=headers)"
   ]
  },
  {
   "cell_type": "code",
   "execution_count": 31,
   "metadata": {},
   "outputs": [],
   "source": [
    "if icd_detail.status_code == 200:\n",
    "    info = {}\n",
    "    soup = BeautifulSoup(icd_detail.text)\n",
    "    icd_code_lst=[d.text.strip() for d in soup.find_all('a')]\n",
    "    icd_name_lst=[d.text.strip() for d in soup.find_all('span')]\n"
   ]
  },
  {
   "cell_type": "code",
   "execution_count": 35,
   "metadata": {},
   "outputs": [],
   "source": [
    "CHS_ICD10=[]\n",
    "for i in range(len(icd_chapter)):\n",
    "    icd_detail_url_full=icd_detail_url_base+icd_chapter[i]['icdId']\n",
    "    icd_detail=requests.get(icd_detail_url_full,headers=headers)\n",
    "    if icd_detail.status_code == 200:\n",
    "        info = {}\n",
    "        soup = BeautifulSoup(icd_detail.text)\n",
    "        icd_code_lst=[d.text.strip() for d in soup.find_all('a')]\n",
    "        icd_name_lst=[d.text.strip() for d in soup.find_all('span')]\n",
    "        df_icd=pd.DataFrame({'icd_code':icd_code_lst,'icd_name':icd_name_lst})\n",
    "        CHS_ICD10.append(df_icd)\n",
    "    else:\n",
    "        print(icd_detail_url_full)"
   ]
  },
  {
   "cell_type": "code",
   "execution_count": 37,
   "metadata": {},
   "outputs": [],
   "source": [
    "CHS_ICD10_Table=pd.concat(CHS_ICD10,axis=0,ignore_index=True)"
   ]
  },
  {
   "cell_type": "code",
   "execution_count": 39,
   "metadata": {},
   "outputs": [
    {
     "data": {
      "text/html": [
       "<div>\n",
       "<style scoped>\n",
       "    .dataframe tbody tr th:only-of-type {\n",
       "        vertical-align: middle;\n",
       "    }\n",
       "\n",
       "    .dataframe tbody tr th {\n",
       "        vertical-align: top;\n",
       "    }\n",
       "\n",
       "    .dataframe thead th {\n",
       "        text-align: right;\n",
       "    }\n",
       "</style>\n",
       "<table border=\"1\" class=\"dataframe\">\n",
       "  <thead>\n",
       "    <tr style=\"text-align: right;\">\n",
       "      <th></th>\n",
       "      <th>icd_code</th>\n",
       "      <th>icd_name</th>\n",
       "    </tr>\n",
       "  </thead>\n",
       "  <tbody>\n",
       "    <tr>\n",
       "      <th>0</th>\n",
       "      <td>A00</td>\n",
       "      <td>霍乱</td>\n",
       "    </tr>\n",
       "    <tr>\n",
       "      <th>1</th>\n",
       "      <td>A00.0</td>\n",
       "      <td>霍乱，由于O1群霍乱弧菌，霍乱生物型所致</td>\n",
       "    </tr>\n",
       "    <tr>\n",
       "      <th>2</th>\n",
       "      <td>A00.000</td>\n",
       "      <td>霍乱，由于O1群霍乱弧菌，霍乱生物型所致</td>\n",
       "    </tr>\n",
       "    <tr>\n",
       "      <th>3</th>\n",
       "      <td>A00.000x001</td>\n",
       "      <td>古典生物型霍乱</td>\n",
       "    </tr>\n",
       "    <tr>\n",
       "      <th>4</th>\n",
       "      <td>A00.1</td>\n",
       "      <td>霍乱，由于O1群霍乱弧菌，埃尔托生物型所致</td>\n",
       "    </tr>\n",
       "    <tr>\n",
       "      <th>5</th>\n",
       "      <td>A00.100</td>\n",
       "      <td>霍乱，由于O1群霍乱弧菌，埃尔托生物型所致</td>\n",
       "    </tr>\n",
       "    <tr>\n",
       "      <th>6</th>\n",
       "      <td>A00.100x001</td>\n",
       "      <td>埃尔托生物型霍乱</td>\n",
       "    </tr>\n",
       "    <tr>\n",
       "      <th>7</th>\n",
       "      <td>A00.9</td>\n",
       "      <td>未特指的霍乱</td>\n",
       "    </tr>\n",
       "    <tr>\n",
       "      <th>8</th>\n",
       "      <td>A00.900</td>\n",
       "      <td>霍乱</td>\n",
       "    </tr>\n",
       "    <tr>\n",
       "      <th>9</th>\n",
       "      <td>A00.900x002</td>\n",
       "      <td>霍乱轻型</td>\n",
       "    </tr>\n",
       "    <tr>\n",
       "      <th>10</th>\n",
       "      <td>A00.900x003</td>\n",
       "      <td>霍乱中型</td>\n",
       "    </tr>\n",
       "    <tr>\n",
       "      <th>11</th>\n",
       "      <td>A00.900x004</td>\n",
       "      <td>霍乱重型</td>\n",
       "    </tr>\n",
       "    <tr>\n",
       "      <th>12</th>\n",
       "      <td>A00.900x005</td>\n",
       "      <td>霍乱暴发型</td>\n",
       "    </tr>\n",
       "    <tr>\n",
       "      <th>13</th>\n",
       "      <td>A01</td>\n",
       "      <td>伤寒和副伤寒</td>\n",
       "    </tr>\n",
       "    <tr>\n",
       "      <th>14</th>\n",
       "      <td>A01.0</td>\n",
       "      <td>伤寒</td>\n",
       "    </tr>\n",
       "    <tr>\n",
       "      <th>15</th>\n",
       "      <td>A01.000</td>\n",
       "      <td>伤寒</td>\n",
       "    </tr>\n",
       "    <tr>\n",
       "      <th>16</th>\n",
       "      <td>A01.000x004</td>\n",
       "      <td>伤寒复发</td>\n",
       "    </tr>\n",
       "    <tr>\n",
       "      <th>17</th>\n",
       "      <td>A01.000x005+J17.0*</td>\n",
       "      <td>伤寒并发肺炎</td>\n",
       "    </tr>\n",
       "    <tr>\n",
       "      <th>18</th>\n",
       "      <td>A01.000x006</td>\n",
       "      <td>伤寒迁延型</td>\n",
       "    </tr>\n",
       "    <tr>\n",
       "      <th>19</th>\n",
       "      <td>A01.000x007</td>\n",
       "      <td>伤寒逍遥型</td>\n",
       "    </tr>\n",
       "  </tbody>\n",
       "</table>\n",
       "</div>"
      ],
      "text/plain": [
       "              icd_code               icd_name\n",
       "0                  A00                     霍乱\n",
       "1                A00.0   霍乱，由于O1群霍乱弧菌，霍乱生物型所致\n",
       "2              A00.000   霍乱，由于O1群霍乱弧菌，霍乱生物型所致\n",
       "3          A00.000x001                古典生物型霍乱\n",
       "4                A00.1  霍乱，由于O1群霍乱弧菌，埃尔托生物型所致\n",
       "5              A00.100  霍乱，由于O1群霍乱弧菌，埃尔托生物型所致\n",
       "6          A00.100x001               埃尔托生物型霍乱\n",
       "7                A00.9                 未特指的霍乱\n",
       "8              A00.900                     霍乱\n",
       "9          A00.900x002                   霍乱轻型\n",
       "10         A00.900x003                   霍乱中型\n",
       "11         A00.900x004                   霍乱重型\n",
       "12         A00.900x005                  霍乱暴发型\n",
       "13                 A01                 伤寒和副伤寒\n",
       "14               A01.0                     伤寒\n",
       "15             A01.000                     伤寒\n",
       "16         A01.000x004                   伤寒复发\n",
       "17  A01.000x005+J17.0*                 伤寒并发肺炎\n",
       "18         A01.000x006                  伤寒迁延型\n",
       "19         A01.000x007                  伤寒逍遥型"
      ]
     },
     "execution_count": 39,
     "metadata": {},
     "output_type": "execute_result"
    }
   ],
   "source": [
    "CHS_ICD10_Table.head(20)"
   ]
  },
  {
   "cell_type": "code",
   "execution_count": 40,
   "metadata": {},
   "outputs": [
    {
     "data": {
      "text/plain": [
       "47101"
      ]
     },
     "execution_count": 40,
     "metadata": {},
     "output_type": "execute_result"
    }
   ],
   "source": [
    "len(CHS_ICD10_Table)"
   ]
  },
  {
   "cell_type": "code",
   "execution_count": 42,
   "metadata": {},
   "outputs": [],
   "source": [
    "CHS_ICD10_Table.to_csv('./LOOKUP_TABLES/CHS_ICD10.csv',encoding='utf-8',index=False)"
   ]
  },
  {
   "cell_type": "code",
   "execution_count": null,
   "metadata": {},
   "outputs": [],
   "source": []
  }
 ],
 "metadata": {
  "kernelspec": {
   "display_name": "Python 3",
   "language": "python",
   "name": "python3"
  },
  "language_info": {
   "codemirror_mode": {
    "name": "ipython",
    "version": 3
   },
   "file_extension": ".py",
   "mimetype": "text/x-python",
   "name": "python",
   "nbconvert_exporter": "python",
   "pygments_lexer": "ipython3",
   "version": "3.7.6"
  }
 },
 "nbformat": 4,
 "nbformat_minor": 4
}
