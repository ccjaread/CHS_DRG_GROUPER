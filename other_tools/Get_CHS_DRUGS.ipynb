{
 "cells": [
  {
   "cell_type": "code",
   "execution_count": 5,
   "metadata": {},
   "outputs": [],
   "source": [
    "import requests\n",
    "from bs4 import BeautifulSoup\n",
    "import pandas as pd"
   ]
  },
  {
   "cell_type": "code",
   "execution_count": 6,
   "metadata": {},
   "outputs": [],
   "source": [
    "headers={\"User-Agent\": \"Mozilla/5.0 (Macintosh; Intel Mac OS X 10_14_2) AppleWebKit/605.1.15 (KHTML, like Gecko) Version/12.0.2 Safari/605.1.15\"\n",
    "        }"
   ]
  },
  {
   "cell_type": "code",
   "execution_count": 7,
   "metadata": {},
   "outputs": [],
   "source": [
    "drug_base_url='http://code.nhsa.gov.cn:8000/yp/getPublishGoodsDataInfo.html?batchNumber=20191205&_search=false&rows=50&page={}&sidx=t.goods_code&sord=asc'"
   ]
  },
  {
   "cell_type": "code",
   "execution_count": 8,
   "metadata": {},
   "outputs": [],
   "source": [
    "drug_full_url=drug_base_url.format(1)"
   ]
  },
  {
   "cell_type": "code",
   "execution_count": 9,
   "metadata": {},
   "outputs": [],
   "source": [
    "drug_detail=requests.get(drug_full_url,headers=headers)"
   ]
  },
  {
   "cell_type": "code",
   "execution_count": 10,
   "metadata": {},
   "outputs": [],
   "source": [
    "drug_detail=drug_detail.json()"
   ]
  },
  {
   "cell_type": "code",
   "execution_count": 12,
   "metadata": {},
   "outputs": [],
   "source": [
    "pages=drug_detail['total']"
   ]
  },
  {
   "cell_type": "code",
   "execution_count": 15,
   "metadata": {},
   "outputs": [
    {
     "data": {
      "text/plain": [
       "1606"
      ]
     },
     "execution_count": 15,
     "metadata": {},
     "output_type": "execute_result"
    }
   ],
   "source": [
    "pages"
   ]
  },
  {
   "cell_type": "code",
   "execution_count": 13,
   "metadata": {},
   "outputs": [],
   "source": [
    "rows=pd.DataFrame(drug_detail['rows'])"
   ]
  },
  {
   "cell_type": "code",
   "execution_count": 14,
   "metadata": {},
   "outputs": [
    {
     "data": {
      "text/html": [
       "<div>\n",
       "<style scoped>\n",
       "    .dataframe tbody tr th:only-of-type {\n",
       "        vertical-align: middle;\n",
       "    }\n",
       "\n",
       "    .dataframe tbody tr th {\n",
       "        vertical-align: top;\n",
       "    }\n",
       "\n",
       "    .dataframe thead th {\n",
       "        text-align: right;\n",
       "    }\n",
       "</style>\n",
       "<table border=\"1\" class=\"dataframe\">\n",
       "  <thead>\n",
       "    <tr style=\"text-align: right;\">\n",
       "      <th></th>\n",
       "      <th>approvalcode</th>\n",
       "      <th>unit</th>\n",
       "      <th>materialname</th>\n",
       "      <th>goodscode</th>\n",
       "      <th>registeredmedicinemodel</th>\n",
       "      <th>registeredproductname</th>\n",
       "      <th>goodsname</th>\n",
       "      <th>registeredoutlook</th>\n",
       "      <th>factor</th>\n",
       "      <th>companynamesc</th>\n",
       "      <th>goodsstandardcode</th>\n",
       "      <th>minunit</th>\n",
       "      <th>productcode</th>\n",
       "      <th>productmedicinemodel</th>\n",
       "      <th>productname</th>\n",
       "      <th>productinsurancetype</th>\n",
       "    </tr>\n",
       "  </thead>\n",
       "  <tbody>\n",
       "    <tr>\n",
       "      <th>0</th>\n",
       "      <td>国药准字H44024254</td>\n",
       "      <td>盒</td>\n",
       "      <td>铝塑包装</td>\n",
       "      <td>XA01ABD075A002010100594</td>\n",
       "      <td>片剂(含片)</td>\n",
       "      <td>地喹氯铵含片</td>\n",
       "      <td>无</td>\n",
       "      <td>0.25mg</td>\n",
       "      <td>12</td>\n",
       "      <td>珠海同源药业有限公司</td>\n",
       "      <td>86900594000342</td>\n",
       "      <td>片</td>\n",
       "      <td>NaN</td>\n",
       "      <td>NaN</td>\n",
       "      <td>NaN</td>\n",
       "      <td>NaN</td>\n",
       "    </tr>\n",
       "    <tr>\n",
       "      <th>1</th>\n",
       "      <td>国药准字H44024254</td>\n",
       "      <td>盒</td>\n",
       "      <td>铝塑包装</td>\n",
       "      <td>XA01ABD075A002010200594</td>\n",
       "      <td>片剂(含片)</td>\n",
       "      <td>地喹氯铵含片</td>\n",
       "      <td>无</td>\n",
       "      <td>0.25mg</td>\n",
       "      <td>24</td>\n",
       "      <td>珠海同源药业有限公司</td>\n",
       "      <td>86900594000342</td>\n",
       "      <td>片</td>\n",
       "      <td>NaN</td>\n",
       "      <td>NaN</td>\n",
       "      <td>NaN</td>\n",
       "      <td>NaN</td>\n",
       "    </tr>\n",
       "    <tr>\n",
       "      <th>2</th>\n",
       "      <td>国药准字H44024254</td>\n",
       "      <td>盒</td>\n",
       "      <td>铝塑包装</td>\n",
       "      <td>XA01ABD075A002020100594</td>\n",
       "      <td>片剂(含片)</td>\n",
       "      <td>地喹氯铵含片</td>\n",
       "      <td>无</td>\n",
       "      <td>0.25mg</td>\n",
       "      <td>6</td>\n",
       "      <td>珠海同源药业有限公司</td>\n",
       "      <td>86900594000335</td>\n",
       "      <td>片</td>\n",
       "      <td>NaN</td>\n",
       "      <td>NaN</td>\n",
       "      <td>NaN</td>\n",
       "      <td>NaN</td>\n",
       "    </tr>\n",
       "    <tr>\n",
       "      <th>3</th>\n",
       "      <td>国药准字H44024254</td>\n",
       "      <td>盒</td>\n",
       "      <td>铝塑包装</td>\n",
       "      <td>XA01ABD075A002020200594</td>\n",
       "      <td>片剂(含片)</td>\n",
       "      <td>地喹氯铵含片</td>\n",
       "      <td>无</td>\n",
       "      <td>0.25mg</td>\n",
       "      <td>12</td>\n",
       "      <td>珠海同源药业有限公司</td>\n",
       "      <td>86900594000335</td>\n",
       "      <td>片</td>\n",
       "      <td>NaN</td>\n",
       "      <td>NaN</td>\n",
       "      <td>NaN</td>\n",
       "      <td>NaN</td>\n",
       "    </tr>\n",
       "    <tr>\n",
       "      <th>4</th>\n",
       "      <td>国药准字H44024254</td>\n",
       "      <td>盒</td>\n",
       "      <td>无</td>\n",
       "      <td>XA01ABD075A002020300594</td>\n",
       "      <td>片剂(含片)</td>\n",
       "      <td>地喹氯铵含片</td>\n",
       "      <td>无</td>\n",
       "      <td>0.25mg</td>\n",
       "      <td>24</td>\n",
       "      <td>珠海同源药业有限公司</td>\n",
       "      <td>86900594000335</td>\n",
       "      <td>片</td>\n",
       "      <td>NaN</td>\n",
       "      <td>NaN</td>\n",
       "      <td>NaN</td>\n",
       "      <td>NaN</td>\n",
       "    </tr>\n",
       "  </tbody>\n",
       "</table>\n",
       "</div>"
      ],
      "text/plain": [
       "    approvalcode unit materialname                goodscode  \\\n",
       "0  国药准字H44024254    盒         铝塑包装  XA01ABD075A002010100594   \n",
       "1  国药准字H44024254    盒         铝塑包装  XA01ABD075A002010200594   \n",
       "2  国药准字H44024254    盒         铝塑包装  XA01ABD075A002020100594   \n",
       "3  国药准字H44024254    盒         铝塑包装  XA01ABD075A002020200594   \n",
       "4  国药准字H44024254    盒            无  XA01ABD075A002020300594   \n",
       "\n",
       "  registeredmedicinemodel registeredproductname goodsname registeredoutlook  \\\n",
       "0                  片剂(含片)                地喹氯铵含片         无            0.25mg   \n",
       "1                  片剂(含片)                地喹氯铵含片         无            0.25mg   \n",
       "2                  片剂(含片)                地喹氯铵含片         无            0.25mg   \n",
       "3                  片剂(含片)                地喹氯铵含片         无            0.25mg   \n",
       "4                  片剂(含片)                地喹氯铵含片         无            0.25mg   \n",
       "\n",
       "   factor companynamesc goodsstandardcode minunit productcode  \\\n",
       "0      12    珠海同源药业有限公司    86900594000342       片         NaN   \n",
       "1      24    珠海同源药业有限公司    86900594000342       片         NaN   \n",
       "2       6    珠海同源药业有限公司    86900594000335       片         NaN   \n",
       "3      12    珠海同源药业有限公司    86900594000335       片         NaN   \n",
       "4      24    珠海同源药业有限公司    86900594000335       片         NaN   \n",
       "\n",
       "  productmedicinemodel productname productinsurancetype  \n",
       "0                  NaN         NaN                  NaN  \n",
       "1                  NaN         NaN                  NaN  \n",
       "2                  NaN         NaN                  NaN  \n",
       "3                  NaN         NaN                  NaN  \n",
       "4                  NaN         NaN                  NaN  "
      ]
     },
     "execution_count": 14,
     "metadata": {},
     "output_type": "execute_result"
    }
   ],
   "source": [
    "rows.head()"
   ]
  },
  {
   "cell_type": "code",
   "execution_count": null,
   "metadata": {},
   "outputs": [],
   "source": [
    "drugs=[]\n",
    "drug_base_url='http://code.nhsa.gov.cn:8000/yp/getPublishGoodsDataInfo.html?batchNumber=20191205&_search=false&rows=50&page={}&sidx=t.goods_code&sord=asc'\n",
    "\n",
    "for page in range(1,pages+1):\n",
    "    drug_full_url=drug_base_url.format(page)\n",
    "    drug_detail=requests.get(drug_full_url,headers=headers)\n",
    "    if drug_detail.status_code == 200:\n",
    "        drug_detail=drug_detail.json()\n",
    "        rows=pd.DataFrame(drug_detail['rows'])\n",
    "        drugs.append(rows)\n",
    "    else:\n",
    "        print(drug_full_url)"
   ]
  },
  {
   "cell_type": "code",
   "execution_count": null,
   "metadata": {},
   "outputs": [],
   "source": [
    "CHS_DRUG_Table=pd.concat(drugs,axis=0,ignore_index=True)"
   ]
  },
  {
   "cell_type": "code",
   "execution_count": null,
   "metadata": {},
   "outputs": [],
   "source": [
    "CHS_DRUG_Table.head(20)"
   ]
  },
  {
   "cell_type": "code",
   "execution_count": 27,
   "metadata": {},
   "outputs": [
    {
     "data": {
      "text/plain": [
       "80298"
      ]
     },
     "execution_count": 27,
     "metadata": {},
     "output_type": "execute_result"
    }
   ],
   "source": [
    "len(CHS_DRUG_Table)"
   ]
  },
  {
   "cell_type": "code",
   "execution_count": 28,
   "metadata": {},
   "outputs": [],
   "source": [
    "CHS_DRUG_Table.to_csv('./LOOKUP_TABLES/CHS_DRUG_20191205.csv',encoding='utf-8',index=False)"
   ]
  },
  {
   "cell_type": "code",
   "execution_count": null,
   "metadata": {},
   "outputs": [],
   "source": []
  }
 ],
 "metadata": {
  "kernelspec": {
   "display_name": "Python 3",
   "language": "python",
   "name": "python3"
  },
  "language_info": {
   "codemirror_mode": {
    "name": "ipython",
    "version": 3
   },
   "file_extension": ".py",
   "mimetype": "text/x-python",
   "name": "python",
   "nbconvert_exporter": "python",
   "pygments_lexer": "ipython3",
   "version": "3.7.6"
  }
 },
 "nbformat": 4,
 "nbformat_minor": 4
}
