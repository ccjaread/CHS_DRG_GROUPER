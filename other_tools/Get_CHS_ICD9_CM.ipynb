{
 "cells": [
  {
   "cell_type": "code",
   "execution_count": 1,
   "metadata": {},
   "outputs": [],
   "source": [
    "import requests\n",
    "from bs4 import BeautifulSoup\n",
    "import pandas as pd"
   ]
  },
  {
   "cell_type": "code",
   "execution_count": 2,
   "metadata": {},
   "outputs": [],
   "source": [
    "headers={\"User-Agent\": \"Mozilla/5.0 (Macintosh; Intel Mac OS X 10_14_2) AppleWebKit/605.1.15 (KHTML, like Gecko) Version/12.0.2 Safari/605.1.15\"\n",
    "        }"
   ]
  },
  {
   "cell_type": "code",
   "execution_count": 3,
   "metadata": {},
   "outputs": [],
   "source": [
    "icd_chap_url=u'http://code.nhsa.gov.cn:8000/jbzd/public/toStdOperationTreeList.html'\n",
    "icd_chapter=requests.get(icd_chap_url,headers=headers)"
   ]
  },
  {
   "cell_type": "code",
   "execution_count": 4,
   "metadata": {},
   "outputs": [],
   "source": [
    "icd_chapter=icd_chapter.json()"
   ]
  },
  {
   "cell_type": "code",
   "execution_count": 6,
   "metadata": {},
   "outputs": [
    {
     "data": {
      "text/plain": [
       "'044d7011-7979-11e9-9611-8cec4bd010f3'"
      ]
     },
     "execution_count": 6,
     "metadata": {},
     "output_type": "execute_result"
    }
   ],
   "source": [
    "icd_chapter[0]['operationId']"
   ]
  },
  {
   "cell_type": "code",
   "execution_count": 7,
   "metadata": {},
   "outputs": [],
   "source": [
    "icd_detail_url_base=u'http://code.nhsa.gov.cn:8000/jbzd/public/dataOperationSearchDetail.html?operationId='"
   ]
  },
  {
   "cell_type": "code",
   "execution_count": 8,
   "metadata": {},
   "outputs": [],
   "source": [
    "icd_detail_url_full=icd_detail_url_base+icd_chapter[0]['operationId']"
   ]
  },
  {
   "cell_type": "code",
   "execution_count": 9,
   "metadata": {},
   "outputs": [
    {
     "data": {
      "text/plain": [
       "'http://code.nhsa.gov.cn:8000/jbzd/public/dataOperationSearchDetail.html?operationId=044d7011-7979-11e9-9611-8cec4bd010f3'"
      ]
     },
     "execution_count": 9,
     "metadata": {},
     "output_type": "execute_result"
    }
   ],
   "source": [
    "icd_detail_url_full"
   ]
  },
  {
   "cell_type": "code",
   "execution_count": 10,
   "metadata": {},
   "outputs": [],
   "source": [
    "icd_detail=requests.get(icd_detail_url_full,headers=headers)"
   ]
  },
  {
   "cell_type": "code",
   "execution_count": null,
   "metadata": {},
   "outputs": [],
   "source": []
  },
  {
   "cell_type": "code",
   "execution_count": 11,
   "metadata": {},
   "outputs": [],
   "source": [
    "if icd_detail.status_code == 200:\n",
    "    info = {}\n",
    "    soup = BeautifulSoup(icd_detail.text)\n",
    "    icd_code_lst=[d.text.strip() for d in soup.find_all('a')]\n",
    "    icd_name_lst=[d.text.strip() for d in soup.find_all('span')]\n"
   ]
  },
  {
   "cell_type": "code",
   "execution_count": 15,
   "metadata": {},
   "outputs": [],
   "source": [
    "CHS_ICD9=[]\n",
    "for i in range(len(icd_chapter)):\n",
    "    icd_detail_url_full=icd_detail_url_base+icd_chapter[i]['operationId']\n",
    "    icd_detail=requests.get(icd_detail_url_full,headers=headers)\n",
    "    if icd_detail.status_code == 200:\n",
    "        info = {}\n",
    "        soup = BeautifulSoup(icd_detail.text)\n",
    "        icd_code_lst=[d.text.strip() for d in soup.find_all('a')]\n",
    "        icd_name_lst=[d.text.strip() for d in soup.find_all('span')]\n",
    "        df_icd=pd.DataFrame({'icd_code':icd_code_lst,'icd_name':icd_name_lst})\n",
    "        CHS_ICD9.append(df_icd)\n",
    "    else:\n",
    "        print(icd_detail_url_full)"
   ]
  },
  {
   "cell_type": "code",
   "execution_count": 16,
   "metadata": {},
   "outputs": [],
   "source": [
    "CHS_ICD9_Table=pd.concat(CHS_ICD9,axis=0,ignore_index=True)"
   ]
  },
  {
   "cell_type": "code",
   "execution_count": 17,
   "metadata": {},
   "outputs": [
    {
     "data": {
      "text/html": [
       "<div>\n",
       "<style scoped>\n",
       "    .dataframe tbody tr th:only-of-type {\n",
       "        vertical-align: middle;\n",
       "    }\n",
       "\n",
       "    .dataframe tbody tr th {\n",
       "        vertical-align: top;\n",
       "    }\n",
       "\n",
       "    .dataframe thead th {\n",
       "        text-align: right;\n",
       "    }\n",
       "</style>\n",
       "<table border=\"1\" class=\"dataframe\">\n",
       "  <thead>\n",
       "    <tr style=\"text-align: right;\">\n",
       "      <th></th>\n",
       "      <th>icd_code</th>\n",
       "      <th>icd_name</th>\n",
       "    </tr>\n",
       "  </thead>\n",
       "  <tbody>\n",
       "    <tr>\n",
       "      <th>0</th>\n",
       "      <td>00.0</td>\n",
       "      <td>治疗性超声</td>\n",
       "    </tr>\n",
       "    <tr>\n",
       "      <th>1</th>\n",
       "      <td>00.01</td>\n",
       "      <td>头和颈部血管治疗性超声</td>\n",
       "    </tr>\n",
       "    <tr>\n",
       "      <th>2</th>\n",
       "      <td>00.0100</td>\n",
       "      <td>头和颈部血管治疗性超声</td>\n",
       "    </tr>\n",
       "    <tr>\n",
       "      <th>3</th>\n",
       "      <td>00.0101</td>\n",
       "      <td>头部血管治疗性超声</td>\n",
       "    </tr>\n",
       "    <tr>\n",
       "      <th>4</th>\n",
       "      <td>00.0102</td>\n",
       "      <td>颈部血管治疗性超声</td>\n",
       "    </tr>\n",
       "    <tr>\n",
       "      <th>5</th>\n",
       "      <td>00.02</td>\n",
       "      <td>心脏治疗性超声</td>\n",
       "    </tr>\n",
       "    <tr>\n",
       "      <th>6</th>\n",
       "      <td>00.0200</td>\n",
       "      <td>心脏治疗性超声</td>\n",
       "    </tr>\n",
       "    <tr>\n",
       "      <th>7</th>\n",
       "      <td>00.0200x001</td>\n",
       "      <td>心脏血管治疗性超声</td>\n",
       "    </tr>\n",
       "    <tr>\n",
       "      <th>8</th>\n",
       "      <td>00.03</td>\n",
       "      <td>周围血管治疗性超声</td>\n",
       "    </tr>\n",
       "    <tr>\n",
       "      <th>9</th>\n",
       "      <td>00.0300</td>\n",
       "      <td>周围血管治疗性超声</td>\n",
       "    </tr>\n",
       "    <tr>\n",
       "      <th>10</th>\n",
       "      <td>00.09</td>\n",
       "      <td>其他治疗性超声</td>\n",
       "    </tr>\n",
       "    <tr>\n",
       "      <th>11</th>\n",
       "      <td>00.0900</td>\n",
       "      <td>其他治疗性超声</td>\n",
       "    </tr>\n",
       "    <tr>\n",
       "      <th>12</th>\n",
       "      <td>00.0900x001</td>\n",
       "      <td>治疗性超声</td>\n",
       "    </tr>\n",
       "    <tr>\n",
       "      <th>13</th>\n",
       "      <td>00.0901</td>\n",
       "      <td>高强度聚焦超声治疗</td>\n",
       "    </tr>\n",
       "    <tr>\n",
       "      <th>14</th>\n",
       "      <td>00.1</td>\n",
       "      <td>药物制剂</td>\n",
       "    </tr>\n",
       "    <tr>\n",
       "      <th>15</th>\n",
       "      <td>00.10</td>\n",
       "      <td>化学治疗物质植入</td>\n",
       "    </tr>\n",
       "    <tr>\n",
       "      <th>16</th>\n",
       "      <td>00.1000</td>\n",
       "      <td>化学治疗物质植入</td>\n",
       "    </tr>\n",
       "    <tr>\n",
       "      <th>17</th>\n",
       "      <td>00.11</td>\n",
       "      <td>重组人类活化C蛋白输注（激活）</td>\n",
       "    </tr>\n",
       "    <tr>\n",
       "      <th>18</th>\n",
       "      <td>00.1100</td>\n",
       "      <td>重组人类活化C蛋白输注</td>\n",
       "    </tr>\n",
       "    <tr>\n",
       "      <th>19</th>\n",
       "      <td>00.1101</td>\n",
       "      <td>重组蛋白输注</td>\n",
       "    </tr>\n",
       "  </tbody>\n",
       "</table>\n",
       "</div>"
      ],
      "text/plain": [
       "       icd_code         icd_name\n",
       "0          00.0            治疗性超声\n",
       "1         00.01      头和颈部血管治疗性超声\n",
       "2       00.0100      头和颈部血管治疗性超声\n",
       "3       00.0101        头部血管治疗性超声\n",
       "4       00.0102        颈部血管治疗性超声\n",
       "5         00.02          心脏治疗性超声\n",
       "6       00.0200          心脏治疗性超声\n",
       "7   00.0200x001        心脏血管治疗性超声\n",
       "8         00.03        周围血管治疗性超声\n",
       "9       00.0300        周围血管治疗性超声\n",
       "10        00.09          其他治疗性超声\n",
       "11      00.0900          其他治疗性超声\n",
       "12  00.0900x001            治疗性超声\n",
       "13      00.0901        高强度聚焦超声治疗\n",
       "14         00.1             药物制剂\n",
       "15        00.10         化学治疗物质植入\n",
       "16      00.1000         化学治疗物质植入\n",
       "17        00.11  重组人类活化C蛋白输注（激活）\n",
       "18      00.1100      重组人类活化C蛋白输注\n",
       "19      00.1101           重组蛋白输注"
      ]
     },
     "execution_count": 17,
     "metadata": {},
     "output_type": "execute_result"
    }
   ],
   "source": [
    "CHS_ICD9_Table.head(20)"
   ]
  },
  {
   "cell_type": "code",
   "execution_count": 18,
   "metadata": {},
   "outputs": [
    {
     "data": {
      "text/plain": [
       "17552"
      ]
     },
     "execution_count": 18,
     "metadata": {},
     "output_type": "execute_result"
    }
   ],
   "source": [
    "len(CHS_ICD9_Table)"
   ]
  },
  {
   "cell_type": "code",
   "execution_count": 19,
   "metadata": {},
   "outputs": [],
   "source": [
    "CHS_ICD9_Table.to_csv('./LOOKUP_TABLES/CHS_ICD9_CM3.csv',encoding='utf-8',index=False)"
   ]
  },
  {
   "cell_type": "code",
   "execution_count": null,
   "metadata": {},
   "outputs": [],
   "source": []
  }
 ],
 "metadata": {
  "kernelspec": {
   "display_name": "Python 3",
   "language": "python",
   "name": "python3"
  },
  "language_info": {
   "codemirror_mode": {
    "name": "ipython",
    "version": 3
   },
   "file_extension": ".py",
   "mimetype": "text/x-python",
   "name": "python",
   "nbconvert_exporter": "python",
   "pygments_lexer": "ipython3",
   "version": "3.7.6"
  }
 },
 "nbformat": 4,
 "nbformat_minor": 4
}
